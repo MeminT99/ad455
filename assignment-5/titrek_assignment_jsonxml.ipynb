{
 "cells": [
  {
   "cell_type": "markdown",
   "id": "1c567631-ed2b-4537-b35b-a700728cf0cb",
   "metadata": {
    "tags": []
   },
   "source": [
    "## Load tidyverse, data.table, XML, jsonlite, httr or any other necessary packages"
   ]
  },
  {
   "cell_type": "code",
   "execution_count": null,
   "id": "4747846a-9724-447c-a46b-7bf457b89b5f",
   "metadata": {},
   "outputs": [],
   "source": [
    "library(tidyverse)\n",
    "library(data.table)\n",
    "library(XML)\n",
    "library(jsonlite)\n",
    "library(httr)\n",
    "library(pipeR)\n",
    "library(rlist)"
   ]
  },
  {
   "cell_type": "markdown",
   "id": "bae47a1d-244b-4929-863c-814e065abd66",
   "metadata": {},
   "source": [
    "# Task-1"
   ]
  },
  {
   "cell_type": "markdown",
   "id": "d4be7e1d-61ed-4860-8757-d69ee3eedf4f",
   "metadata": {},
   "source": [
    "### Find a sufficiently nested json file with multiple documents at any level (means not just one item but it has multiple items in an array), from the web, and load it into R using jsonlite package and convert it to a list object. You can use the debugger tools of your browser with F12, skip to the network pane, do some web actions and track XHR requests that return JSON objects. Social media feeds and streaming data web sites - e.g. sports, finance - may have JSON daha transferred through XHR requests."
   ]
  },
  {
   "cell_type": "code",
   "execution_count": null,
   "id": "239351ca-4f6c-4524-81a9-234fd8f2c005",
   "metadata": {
    "tags": []
   },
   "outputs": [],
   "source": [
    "url <- \"https://raw.githubusercontent.com/MeminT99/ad455/main/json_assignment.json\"\n",
    "data <- fromJSON(url)\n",
    "\n",
    "glimpse(data)"
   ]
  },
  {
   "cell_type": "markdown",
   "id": "bbe5a5d5-3e70-4983-b437-5c9bd948bd4a",
   "metadata": {},
   "source": [
    "### Make at list one list.filter() and one list.select() and one flatten operation (either list_flatten() or list.flatten(), as to your liking and context) on the list object converted from JSON"
   ]
  },
  {
   "cell_type": "markdown",
   "id": "a74f168d-8357-492a-abc4-63565667de12",
   "metadata": {},
   "source": [
    "#### list.filter()"
   ]
  },
  {
   "cell_type": "code",
   "execution_count": null,
   "id": "af379073-4878-49a4-812e-b5060749b71d",
   "metadata": {
    "tags": []
   },
   "outputs": [],
   "source": [
    "filtered_data <- rlist::list.filter(data$school$students, grade > 10)\n",
    "filtered_data"
   ]
  },
  {
   "cell_type": "markdown",
   "id": "20a155f5-dd7c-417f-8d9a-9ed4f14ee566",
   "metadata": {},
   "source": [
    "#### list.select()"
   ]
  },
  {
   "cell_type": "code",
   "execution_count": null,
   "id": "863c9551-bec0-44a3-9ce2-639120cf93af",
   "metadata": {
    "tags": []
   },
   "outputs": [],
   "source": [
    "selected_data <- rlist::list.select(data, teachers)\n",
    "selected_data"
   ]
  },
  {
   "cell_type": "markdown",
   "id": "7bf958c1-9b99-4016-8af0-e664da8cad83",
   "metadata": {
    "tags": []
   },
   "source": [
    "#### list.flatten()"
   ]
  },
  {
   "cell_type": "code",
   "execution_count": null,
   "id": "0d67d28d-06ba-4c99-8e71-fba541ce1243",
   "metadata": {
    "tags": []
   },
   "outputs": [],
   "source": [
    "flatten_data <- rlist::list.flatten(selected_data)\n",
    "flatten_data"
   ]
  },
  {
   "cell_type": "markdown",
   "id": "5603609b-5b69-431a-a4e6-b94740cb28ed",
   "metadata": {},
   "source": [
    "# Task-2"
   ]
  },
  {
   "cell_type": "markdown",
   "id": "2122a994-163b-42ed-80c0-db1b936e55c6",
   "metadata": {},
   "source": [
    "### Import a webpage from the internet using either GET function from httr or a curl request sent to shell through system() command."
   ]
  },
  {
   "cell_type": "code",
   "execution_count": null,
   "id": "9b7f29e5-4e95-49bd-a7e3-91ee30637723",
   "metadata": {
    "tags": []
   },
   "outputs": [],
   "source": [
    "url <- \"https://econ.bogazici.edu.tr/faculty\"\n",
    "\n",
    "response <- GET(url)\n",
    "html_content <- content(response, \"text\")\n",
    "parsed_html <- htmlParse(html_content, asText = TRUE)"
   ]
  },
  {
   "cell_type": "markdown",
   "id": "384fd231-6f52-4661-a158-ca72b086bc56",
   "metadata": {},
   "source": [
    "### Execute three XPath queries using XML package, each at least having three levels and each returning an atomic value (such as a text node or attribute value). None of the nodes should just be indexed tags. So /div[1]/span[2] etc. are not acceptable queries. You can use any predicates and filters. Indices are ok as long as filters and/or predicates have been used for that node. The results should not be an html/xml object but just a single value. You may use the elements pane from debugger tools to write the queries."
   ]
  },
  {
   "cell_type": "code",
   "execution_count": null,
   "id": "02043899-0e59-45b7-90ee-dcf17855d9f1",
   "metadata": {
    "tags": []
   },
   "outputs": [],
   "source": [
    "query_prof_names <- xpathSApply(parsed_html, \"//div[@class='views-field views-field-title']//a\")\n",
    "prof_names <- sapply(query_prof_names, xmlValue)\n",
    "\n",
    "prof_names"
   ]
  },
  {
   "cell_type": "code",
   "execution_count": null,
   "id": "7cc1cd87-ec13-4d31-8cda-caf30c7abf92",
   "metadata": {
    "tags": []
   },
   "outputs": [],
   "source": [
    "query_prof_emails <- xpathSApply(parsed_html, \"//div[@class='views-field views-field-field-e-posta']//div\")\n",
    "prof_emails <- sapply(query_prof_emails, xmlValue)\n",
    "\n",
    "prof_emails"
   ]
  },
  {
   "cell_type": "code",
   "execution_count": null,
   "id": "9ab8c911-8f55-429f-89ee-af99c9d83789",
   "metadata": {
    "tags": []
   },
   "outputs": [],
   "source": [
    "query_prof_phones <- xpathSApply(parsed_html, \"//div[@class='views-field views-field-field-telefon']//div\")\n",
    "prof_phones <- sapply(query_prof_phones, xmlValue)\n",
    "\n",
    "prof_phones"
   ]
  },
  {
   "cell_type": "code",
   "execution_count": null,
   "id": "b65cee66-b1c5-4ab9-8d78-7e1cac0d38e6",
   "metadata": {
    "tags": []
   },
   "outputs": [],
   "source": [
    "econ_profs <- data.frame(Names=prof_names,\n",
    "                         Email=prof_emails,\n",
    "                         Phone=prof_phones)\n",
    "\n",
    "head(econ_profs)"
   ]
  }
 ],
 "metadata": {
  "kernelspec": {
   "display_name": "R",
   "language": "R",
   "name": "ir"
  },
  "language_info": {
   "codemirror_mode": "r",
   "file_extension": ".r",
   "mimetype": "text/x-r-source",
   "name": "R",
   "pygments_lexer": "r",
   "version": "4.2.1"
  }
 },
 "nbformat": 4,
 "nbformat_minor": 5
}
