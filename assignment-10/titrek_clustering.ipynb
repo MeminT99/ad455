{
 "cells": [
  {
   "cell_type": "markdown",
   "id": "8618b633-09cb-4850-a8b6-2d26487d74a9",
   "metadata": {
    "tags": []
   },
   "source": [
    "# Penguins Dataset Analysis - Clustering\n",
    "### Mehmet Emin Titrek - 2018300231"
   ]
  },
  {
   "cell_type": "markdown",
   "id": "c87bac6b-e812-4b06-9aa5-6ac9d28e87b8",
   "metadata": {},
   "source": [
    "## Importing necessary libraries"
   ]
  },
  {
   "cell_type": "code",
   "execution_count": null,
   "id": "f911b139-549f-4bfc-a7a7-d25c856b38c8",
   "metadata": {
    "tags": []
   },
   "outputs": [],
   "source": [
    "library(data.table)\n",
    "library(tidyverse)\n",
    "library(scales)\n",
    "library(NbClust)\n",
    "library(ggplot2)\n",
    "library(gridExtra)\n",
    "library(corrplot)\n",
    "library(psych)\n",
    "library(BBmisc)\n",
    "library(stats)\n",
    "library(fastcluster)"
   ]
  },
  {
   "cell_type": "markdown",
   "id": "5ea428ac-effe-4501-875b-0c23fe0c2a03",
   "metadata": {},
   "source": [
    "## Loading dataset"
   ]
  },
  {
   "cell_type": "code",
   "execution_count": null,
   "id": "93959553-7644-4d8a-8668-897754d0ed0c",
   "metadata": {
    "tags": []
   },
   "outputs": [],
   "source": [
    "url <- \"https://raw.githubusercontent.com/MeminT99/ad455/main/assignment-10/penguins.csv\"\n",
    "penguin_data <- fread(url)\n",
    "\n",
    "str(penguin_data)"
   ]
  },
  {
   "cell_type": "markdown",
   "id": "a74cbf14-843b-4e59-afd6-2f87d9b682bf",
   "metadata": {},
   "source": [
    "- **species:** penguin species (Chinstrap, Adélie, or Gentoo)\n",
    "- **culmen_length_mm:** culmen length (mm)\n",
    "- **culmen_depth_mm:** culmen depth (mm)\n",
    "- **flipper_length_mm:** flipper length (mm)\n",
    "- **body_mass_g:** body mass (g)\n",
    "- **island:** island name (Dream, Torgersen, or Biscoe) in the Palmer Archipelago (Antarctica)\n",
    "- **sex:** penguin sex"
   ]
  },
  {
   "cell_type": "code",
   "execution_count": null,
   "id": "16d06de2-e675-435f-86aa-f0a93962d855",
   "metadata": {
    "tags": []
   },
   "outputs": [],
   "source": [
    "missing_raw <- penguin_data %>%\n",
    "  summarise_all(~ sum(is.na(.) | . == \"\"))\n",
    "\n",
    "missing_raw"
   ]
  },
  {
   "cell_type": "markdown",
   "id": "81a377e4-41c6-46ce-bdfd-ea9f3aff088c",
   "metadata": {},
   "source": [
    "**We have a few missing values in the data!!!**"
   ]
  },
  {
   "cell_type": "code",
   "execution_count": null,
   "id": "122f2b6f-d407-4fe2-9c42-ca89cef17a41",
   "metadata": {
    "tags": []
   },
   "outputs": [],
   "source": [
    "## Apply function to calculate number of unique elements in each column\n",
    "sapply(penguin_data, function(x) length(unique(x)))"
   ]
  },
  {
   "cell_type": "code",
   "execution_count": null,
   "id": "52b0841f-6295-4fc4-abce-96a07c877ea1",
   "metadata": {
    "tags": []
   },
   "outputs": [],
   "source": [
    "DT <- penguin_data %>%\n",
    "  select(-sex) %>%\n",
    "  na.omit() %>%\n",
    "  mutate(across(where(is.numeric), normalize)) %>%\n",
    "  mutate(species:=as.factor(species),\n",
    "         island:=as.factor(island))\n",
    "    \n",
    "missing_DT <- DT %>%\n",
    "  summarise_all(~ sum(is.na(.) | . == \"\"))\n",
    "\n",
    "missing_DT"
   ]
  },
  {
   "cell_type": "markdown",
   "id": "6fcf0172-637b-40f3-b54d-b1b6d3301e01",
   "metadata": {},
   "source": [
    "---\n",
    "- Cleaned rows with missing values\n",
    "- Removing irrelevant column (sex)\n",
    "- Normalized numeric variables\n",
    "- Factorize categorical variables (species, island)\n",
    "---"
   ]
  },
  {
   "cell_type": "markdown",
   "id": "0544417d-a0f0-4117-9811-36d95bae29a9",
   "metadata": {},
   "source": [
    "## Separated the data into numeric and non-numeric"
   ]
  },
  {
   "cell_type": "code",
   "execution_count": null,
   "id": "ce4ffc2e-9aa3-48cb-8dd1-a7d7b5350532",
   "metadata": {
    "tags": []
   },
   "outputs": [],
   "source": [
    "DT_chr <- DT %>%\n",
    "    select(species, island)\n",
    "\n",
    "DT_num <- DT %>%\n",
    "    select(-c(species, island))"
   ]
  },
  {
   "cell_type": "markdown",
   "id": "395a2a61-75de-48bc-9df2-cfdd262eb9ce",
   "metadata": {},
   "source": [
    "## Variables distribution"
   ]
  },
  {
   "cell_type": "code",
   "execution_count": null,
   "id": "cfbc0c42-c9ae-4cc1-a5d0-3cff5b564a1f",
   "metadata": {
    "tags": []
   },
   "outputs": [],
   "source": [
    "options(repr.plot.width = 20, repr.plot.height = 5)\n",
    "\n",
    "hist_plots <- list()\n",
    "\n",
    "for (var in names(DT_num)) {\n",
    "  hist_plots[[var]] <- ggplot(DT_num, aes(x = !!sym(var))) +\n",
    "    geom_histogram(bins = 20, alpha = 0.5, fill = \"blue\") +\n",
    "    theme(plot.title = element_blank()) +\n",
    "    geom_density()\n",
    "}\n",
    "\n",
    "grid.arrange(grobs = hist_plots, ncol=4)"
   ]
  },
  {
   "cell_type": "markdown",
   "id": "1597984b-c807-440a-a383-cb797bcde0d7",
   "metadata": {},
   "source": [
    "## Correlation plot"
   ]
  },
  {
   "cell_type": "code",
   "execution_count": null,
   "id": "fcb63bb3-2f57-429f-a772-adb5d12e38aa",
   "metadata": {
    "tags": []
   },
   "outputs": [],
   "source": [
    "options(repr.plot.width = 9, repr.plot.height = 9)\n",
    "\n",
    "cor_mat <- cor(DT_num, method = \"spearman\")\n",
    "cor_test_mat <- corr.test(DT_num, method = \"spearman\")$p  \n",
    "\n",
    "corrplot(cor_mat,\n",
    "         method = \"color\", \n",
    "         type = \"upper\",\n",
    "         addCoef.col = \"black\",\n",
    "         tl.col = \"black\",\n",
    "         diag=FALSE,\n",
    "         p.mat = cor_test_mat, sig.level = 0.005, insig = \"blank\")"
   ]
  },
  {
   "cell_type": "markdown",
   "id": "7e6d45df-0fda-40ed-8be0-9d5916b2d70f",
   "metadata": {},
   "source": [
    "## "
   ]
  },
  {
   "cell_type": "markdown",
   "id": "7e0e4bfd-666c-4b40-bd3d-db6f68ea99ba",
   "metadata": {},
   "source": [
    "### Optimal k with NbClust - kmeans"
   ]
  },
  {
   "cell_type": "code",
   "execution_count": null,
   "id": "2888f0ba-7e20-4e0b-b5e8-67ddafa863d1",
   "metadata": {
    "tags": []
   },
   "outputs": [],
   "source": [
    "DT_nb <- NbClust::NbClust(DT_num, min.nc=2, max.nc=10, index=\"all\", method=\"kmeans\")"
   ]
  },
  {
   "cell_type": "code",
   "execution_count": null,
   "id": "0ffb29db-1af3-4e3f-bea7-18606a12e627",
   "metadata": {
    "tags": []
   },
   "outputs": [],
   "source": [
    "DT_nb"
   ]
  },
  {
   "cell_type": "markdown",
   "id": "3113ee61-d5e5-4ba1-a448-2ab207e0ad77",
   "metadata": {},
   "source": [
    "### Combining cluster labels and the data"
   ]
  },
  {
   "cell_type": "code",
   "execution_count": null,
   "id": "a4d4df53-86e8-49b2-b290-25eabf72402a",
   "metadata": {
    "tags": []
   },
   "outputs": [],
   "source": [
    "set.seed(455)\n",
    "DT_kmeans <- kmeans(DT_num, centers = 2)\n",
    "DT_kmeans"
   ]
  },
  {
   "cell_type": "code",
   "execution_count": null,
   "id": "f36ac25e-c76c-432a-a5e5-68a02cc0a5ab",
   "metadata": {
    "tags": []
   },
   "outputs": [],
   "source": [
    "DT_kmeans$size"
   ]
  },
  {
   "cell_type": "code",
   "execution_count": null,
   "id": "e66f0f67-ac13-415d-be41-e0639f17c92d",
   "metadata": {
    "tags": []
   },
   "outputs": [],
   "source": [
    "DT_cluster <- cbind(DT, clust = as.factor(DT_kmeans$cluster))\n",
    "\n",
    "str(DT_cluster)"
   ]
  },
  {
   "cell_type": "code",
   "execution_count": null,
   "id": "514e23a1-f9e9-47b4-8830-1767ed3724c6",
   "metadata": {
    "tags": []
   },
   "outputs": [],
   "source": [
    "head(DT_cluster)"
   ]
  },
  {
   "cell_type": "code",
   "execution_count": null,
   "id": "81081809-023a-4445-9d4d-91c07f16269d",
   "metadata": {
    "tags": []
   },
   "outputs": [],
   "source": [
    "tail(DT_cluster)"
   ]
  },
  {
   "cell_type": "markdown",
   "id": "8e3051a8-482e-414c-a472-3abebbe7ea9c",
   "metadata": {},
   "source": [
    "## Explore and visualize the data summaries across clusters for k-means clustering:"
   ]
  },
  {
   "cell_type": "code",
   "execution_count": null,
   "id": "8d1ee85a-7673-4cb3-9a07-3b56cf103adf",
   "metadata": {
    "tags": []
   },
   "outputs": [],
   "source": [
    "# Calculate summary statistics for each cluster\n",
    "cluster_summary <- DT_cluster %>%\n",
    "  group_by(clust) %>%\n",
    "  summarize(\n",
    "    culmen_length_mean = mean(culmen_length_mm),\n",
    "    culmen_depth_mean = mean(culmen_depth_mm),\n",
    "    flipper_length_mean = mean(flipper_length_mm),\n",
    "    body_mass_mean = mean(body_mass_g)\n",
    "  )\n",
    "\n",
    "cluster_summary"
   ]
  },
  {
   "cell_type": "markdown",
   "id": "588dde93-6d52-4c79-9111-542a6ac391d9",
   "metadata": {},
   "source": [
    "The `cluster_summary` table summarizes the mean values of numeric variables across two clusters (`clust`). \n",
    "\n",
    "- **Cluster 1**:\n",
    "  - **Culmen Length Mean**: 0.6562677\n",
    "  - **Culmen Depth Mean**: -1.0983711\n",
    "  - **Flipper Length Mean**: 1.1571696\n",
    "  - **Body Mass Mean**: 1.0901639\n",
    "\n",
    "- **Cluster 2**:\n",
    "  - **Culmen Length Mean**: -0.3685887\n",
    "  - **Culmen Depth Mean**: 0.6168934\n",
    "  - **Flipper Length Mean**: -0.6499172\n",
    "  - **Body Mass Mean**: -0.6122838\n",
    "\n",
    "**The mean values of the variables in Cluster 1 are generally higher compared to Cluster 2 for all variables except for culmen depth, where Cluster 2 has a higher mean value.**"
   ]
  },
  {
   "cell_type": "code",
   "execution_count": null,
   "id": "2da7e6f5-d944-468a-9ab1-133e9d59d978",
   "metadata": {
    "tags": []
   },
   "outputs": [],
   "source": [
    "options(repr.plot.width = 20, repr.plot.height = 10)\n",
    "\n",
    "DT_cluster_slct <- DT_cluster %>% select(-c(species, island))\n",
    "names_without_clust <- names(DT_cluster_slct)[names(DT_cluster_slct) != \"clust\"]\n",
    "\n",
    "box_plots <- list()\n",
    "\n",
    "for (var in names_without_clust) {\n",
    "  box_plots[[var]] <- ggplot(DT_cluster_slct, aes(x = clust, y = !!sym(var), fill = clust)) +\n",
    "    geom_boxplot() +\n",
    "    labs(x = \"Cluster\", y = var, fill = \"Cluster\") +\n",
    "    theme_minimal()\n",
    "}\n",
    "\n",
    "grid.arrange(grobs = box_plots, ncol = 2, nrow = 2)"
   ]
  },
  {
   "cell_type": "markdown",
   "id": "52723332-5f08-4492-91c5-7bdf8ee3f5fe",
   "metadata": {},
   "source": [
    "### Cluster - Species"
   ]
  },
  {
   "cell_type": "code",
   "execution_count": null,
   "id": "8c95c312-cc60-4a4c-8320-70bf70bce6c6",
   "metadata": {
    "tags": []
   },
   "outputs": [],
   "source": [
    "options(repr.plot.width = 10, repr.plot.height = 5)\n",
    "\n",
    "# Grouped bar plot of species and island by cluster\n",
    "ggplot(DT_cluster, aes(x = clust, fill = species)) +\n",
    "  geom_bar(position = \"dodge\", color = \"black\") +\n",
    "  labs(x = \"Cluster\", fill = \"Species\") +\n",
    "  theme_minimal()"
   ]
  },
  {
   "cell_type": "markdown",
   "id": "6bf36dc2-779d-46bd-b8e6-c3eba12fccdd",
   "metadata": {},
   "source": [
    "### Cluster - Island"
   ]
  },
  {
   "cell_type": "code",
   "execution_count": null,
   "id": "35bc1739-1798-4f24-a3bd-1484703410a7",
   "metadata": {
    "tags": []
   },
   "outputs": [],
   "source": [
    "options(repr.plot.width = 10, repr.plot.height = 5)\n",
    "\n",
    "# Grouped bar plot of island by cluster\n",
    "ggplot(DT_cluster, aes(x = clust, fill = island)) +\n",
    "  geom_bar(position = \"dodge\", color = \"black\") +\n",
    "  labs(x = \"Cluster\", fill = \"Island\") +\n",
    "  theme_minimal()"
   ]
  },
  {
   "cell_type": "markdown",
   "id": "71199435-70fa-4bdf-abdd-0672fcff2cc9",
   "metadata": {},
   "source": [
    "### Optimal k with NbClust - ward.D2"
   ]
  },
  {
   "cell_type": "code",
   "execution_count": null,
   "id": "ef2c6691-2128-457c-b6a3-e3843ba80d2e",
   "metadata": {
    "tags": []
   },
   "outputs": [],
   "source": [
    "DT_wardD2 <- NbClust(DT_num,\n",
    "                     distance = \"euclidean\",\n",
    "                     min.nc = 2,\n",
    "                     max.nc = 10,\n",
    "                     method = \"ward.D2\",\n",
    "                     index = \"all\")\n",
    "\n",
    "DT_wardD2"
   ]
  },
  {
   "cell_type": "markdown",
   "id": "631f5281-3306-4e05-bf9a-c3099887c8e6",
   "metadata": {},
   "source": [
    "### Hierarchical clustering"
   ]
  },
  {
   "cell_type": "code",
   "execution_count": null,
   "id": "d8d8e243-9403-4471-98ad-c3bed0c54a79",
   "metadata": {
    "tags": []
   },
   "outputs": [],
   "source": [
    "options(repr.plot.width = 15, repr.plot.height = 15)\n",
    "dis <- dist(DT_num, method = \"euclidian\")\n",
    "factoextra::fviz_dist(dis)"
   ]
  },
  {
   "cell_type": "code",
   "execution_count": null,
   "id": "35177d01-af99-475e-be2a-c3c45f2d6082",
   "metadata": {
    "tags": []
   },
   "outputs": [],
   "source": [
    "hc <- hclust(dis, method = \"complete\")\n",
    "hc"
   ]
  },
  {
   "cell_type": "code",
   "execution_count": null,
   "id": "85ef7b5a-03e2-470f-905e-8263d8151750",
   "metadata": {
    "tags": []
   },
   "outputs": [],
   "source": [
    "options(repr.plot.width = 20, repr.plot.height = 10)\n",
    "plot(hc, hang = -1, labels = F, main = \"Complete-Linkage\")"
   ]
  },
  {
   "cell_type": "code",
   "execution_count": null,
   "id": "bda759c2-4f4e-4426-98e9-9720c858ed9c",
   "metadata": {
    "tags": []
   },
   "outputs": [],
   "source": [
    "comp2 <- cutree(hc, 2)"
   ]
  },
  {
   "cell_type": "code",
   "execution_count": null,
   "id": "8ddc2d54-265b-445b-8778-146c2f9e9b83",
   "metadata": {
    "tags": []
   },
   "outputs": [],
   "source": [
    "options(repr.plot.width = 20, repr.plot.height = 10)\n",
    "sparcl::ColorDendrogram(hc,\n",
    "                       y = comp2,\n",
    "                       main = \"Complete\",\n",
    "                       branchlength = 30)"
   ]
  }
 ],
 "metadata": {
  "kernelspec": {
   "display_name": "R",
   "language": "R",
   "name": "ir"
  },
  "language_info": {
   "codemirror_mode": "r",
   "file_extension": ".r",
   "mimetype": "text/x-r-source",
   "name": "R",
   "pygments_lexer": "r",
   "version": "4.2.1"
  }
 },
 "nbformat": 4,
 "nbformat_minor": 5
}
