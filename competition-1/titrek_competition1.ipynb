{
 "cells": [
  {
   "cell_type": "code",
   "execution_count": null,
   "id": "6d39b076-2edc-4144-913e-d17f21f17d36",
   "metadata": {
    "tags": []
   },
   "outputs": [],
   "source": [
    "library(data.table)\n",
    "options(repr.matrix.max.rows=10, repr.matrix.max.cols=15) # for limiting the number of top and bottom rows of tables printed "
   ]
  },
  {
   "cell_type": "code",
   "execution_count": null,
   "id": "1e8aac63-6dae-4973-9e0f-cb2986ff3f0e",
   "metadata": {
    "tags": []
   },
   "outputs": [],
   "source": [
    "quakes_dt <- copy(quakes)\n",
    "setDT(quakes_dt)\n",
    "\n",
    "quakes_dt"
   ]
  },
  {
   "cell_type": "code",
   "execution_count": null,
   "id": "a4b3d560-8353-419e-8f4a-4f4e18ca0cd8",
   "metadata": {
    "tags": []
   },
   "outputs": [],
   "source": [
    "how_big_quake <- function(x) {\n",
    "    if (x < 5) {return (\"No damage!\")}\n",
    "    else if (x < 6) {return (\"Minor damage!\")}\n",
    "    else {return (\"Slight or serious damage!\")}\n",
    "}\n",
    "\n",
    "categorize_depth <- function(depth) {\n",
    "  if (depth < 50) {\n",
    "    return(\"Shallow\")\n",
    "  } else if (depth < 200) {\n",
    "    return(\"Moderate\")\n",
    "  } else {\n",
    "    return(\"Deep\")\n",
    "  }\n",
    "}\n",
    "\n",
    "quakes_dt[, how_serious_quake:= sapply(mag, how_big_quake)]\n",
    "quakes_dt[, depth_category := sapply(depth, categorize_depth)]\n",
    "\n",
    "quakes_dt"
   ]
  },
  {
   "cell_type": "markdown",
   "id": "fb51edcc-2dd2-4b9d-98ca-36f8446623dd",
   "metadata": {},
   "source": [
    "# Competition"
   ]
  },
  {
   "cell_type": "markdown",
   "id": "a44c46e4-b6eb-44c9-a97d-2d6a3c209dc4",
   "metadata": {},
   "source": [
    "## By using 'cut'"
   ]
  },
  {
   "cell_type": "code",
   "execution_count": null,
   "id": "e280e460-41ff-46f4-bf5f-23a4ecb8f191",
   "metadata": {
    "tags": []
   },
   "outputs": [],
   "source": [
    "quakes_dt2 <- copy(quakes)\n",
    "setDT(quakes_dt2)\n",
    "\n",
    "quakes_dt2[, how_serious_quake := as.character(cut(mag,\n",
    "                                                   breaks = c(-Inf, 5, 6, Inf),\n",
    "                                                   labels = c(\"No damage!\", \"Minor damage!\", \"Slight or serious damage!\"),\n",
    "                                                   right=FALSE))]\n",
    "quakes_dt2[, depth_category := as.character(cut(depth,\n",
    "                                                breaks = c(-Inf, 50, 200, Inf),\n",
    "                                                labels = c(\"Shallow\", \"Moderate\", \"Deep\"),\n",
    "                                                right=FALSE))]\n",
    "\n",
    "quakes_dt2"
   ]
  },
  {
   "cell_type": "markdown",
   "id": "1ba13811-36e1-440c-8cae-07729621287b",
   "metadata": {},
   "source": [
    "## Testing"
   ]
  },
  {
   "cell_type": "code",
   "execution_count": null,
   "id": "10a07807-5d9f-4946-a0c2-d6b2279cc186",
   "metadata": {
    "tags": []
   },
   "outputs": [],
   "source": [
    "identical(quakes_dt2, quakes_dt)"
   ]
  }
 ],
 "metadata": {
  "kernelspec": {
   "display_name": "R",
   "language": "R",
   "name": "ir"
  },
  "language_info": {
   "codemirror_mode": "r",
   "file_extension": ".r",
   "mimetype": "text/x-r-source",
   "name": "R",
   "pygments_lexer": "r",
   "version": "4.2.1"
  }
 },
 "nbformat": 4,
 "nbformat_minor": 5
}
