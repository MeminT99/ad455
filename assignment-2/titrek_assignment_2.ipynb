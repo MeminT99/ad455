{
 "cells": [
  {
   "cell_type": "markdown",
   "id": "61e7881b-01a3-48ab-b7a1-c5ec5be484a4",
   "metadata": {},
   "source": [
    "## Import the dataset into the session"
   ]
  },
  {
   "cell_type": "code",
   "execution_count": 1,
   "id": "18d65f4d-adac-426f-aeab-02adee12544f",
   "metadata": {
    "tags": []
   },
   "outputs": [
    {
     "name": "stderr",
     "output_type": "stream",
     "text": [
      "Warning message in system(\"timedatectl\", intern = TRUE):\n",
      "“running command 'timedatectl' had status 1”\n",
      "── \u001b[1mAttaching core tidyverse packages\u001b[22m ──────────────────────── tidyverse 2.0.0 ──\n",
      "\u001b[32m✔\u001b[39m \u001b[34mdplyr    \u001b[39m 1.1.4     \u001b[32m✔\u001b[39m \u001b[34mreadr    \u001b[39m 2.1.5\n",
      "\u001b[32m✔\u001b[39m \u001b[34mforcats  \u001b[39m 1.0.0     \u001b[32m✔\u001b[39m \u001b[34mstringr  \u001b[39m 1.5.1\n",
      "\u001b[32m✔\u001b[39m \u001b[34mggplot2  \u001b[39m 3.4.4     \u001b[32m✔\u001b[39m \u001b[34mtibble   \u001b[39m 3.2.1\n",
      "\u001b[32m✔\u001b[39m \u001b[34mlubridate\u001b[39m 1.9.3     \u001b[32m✔\u001b[39m \u001b[34mtidyr    \u001b[39m 1.3.1\n",
      "\u001b[32m✔\u001b[39m \u001b[34mpurrr    \u001b[39m 1.0.2     \n",
      "── \u001b[1mConflicts\u001b[22m ────────────────────────────────────────── tidyverse_conflicts() ──\n",
      "\u001b[31m✖\u001b[39m \u001b[34mdplyr\u001b[39m::\u001b[32mfilter()\u001b[39m masks \u001b[34mstats\u001b[39m::filter()\n",
      "\u001b[31m✖\u001b[39m \u001b[34mdplyr\u001b[39m::\u001b[32mlag()\u001b[39m    masks \u001b[34mstats\u001b[39m::lag()\n",
      "\u001b[36mℹ\u001b[39m Use the conflicted package (\u001b[3m\u001b[34m<http://conflicted.r-lib.org/>\u001b[39m\u001b[23m) to force all conflicts to become errors\n",
      "\n",
      "Attaching package: ‘magrittr’\n",
      "\n",
      "\n",
      "The following object is masked from ‘package:purrr’:\n",
      "\n",
      "    set_names\n",
      "\n",
      "\n",
      "The following object is masked from ‘package:tidyr’:\n",
      "\n",
      "    extract\n",
      "\n",
      "\n"
     ]
    }
   ],
   "source": [
    "library(tidyverse)\n",
    "library(magrittr)\n",
    "library(DT)\n",
    "library(modeldata)"
   ]
  },
  {
   "cell_type": "code",
   "execution_count": 2,
   "id": "c085ee4d-9834-4d9b-a887-c2e84690e2ed",
   "metadata": {
    "tags": []
   },
   "outputs": [
    {
     "data": {
      "text/html": [
       "<table class=\"dataframe\">\n",
       "<caption>A tibble: 6 × 23</caption>\n",
       "<thead>\n",
       "\t<tr><th scope=col>funded_amnt</th><th scope=col>term</th><th scope=col>int_rate</th><th scope=col>sub_grade</th><th scope=col>addr_state</th><th scope=col>verification_status</th><th scope=col>annual_inc</th><th scope=col>emp_length</th><th scope=col>delinq_2yrs</th><th scope=col>inq_last_6mths</th><th scope=col>⋯</th><th scope=col>open_il_12m</th><th scope=col>open_il_24m</th><th scope=col>total_bal_il</th><th scope=col>all_util</th><th scope=col>inq_fi</th><th scope=col>inq_last_12m</th><th scope=col>delinq_amnt</th><th scope=col>num_il_tl</th><th scope=col>total_il_high_credit_limit</th><th scope=col>Class</th></tr>\n",
       "\t<tr><th scope=col>&lt;int&gt;</th><th scope=col>&lt;fct&gt;</th><th scope=col>&lt;dbl&gt;</th><th scope=col>&lt;fct&gt;</th><th scope=col>&lt;fct&gt;</th><th scope=col>&lt;fct&gt;</th><th scope=col>&lt;dbl&gt;</th><th scope=col>&lt;fct&gt;</th><th scope=col>&lt;int&gt;</th><th scope=col>&lt;int&gt;</th><th scope=col>⋯</th><th scope=col>&lt;int&gt;</th><th scope=col>&lt;int&gt;</th><th scope=col>&lt;int&gt;</th><th scope=col>&lt;int&gt;</th><th scope=col>&lt;int&gt;</th><th scope=col>&lt;int&gt;</th><th scope=col>&lt;int&gt;</th><th scope=col>&lt;int&gt;</th><th scope=col>&lt;int&gt;</th><th scope=col>&lt;fct&gt;</th></tr>\n",
       "</thead>\n",
       "<tbody>\n",
       "\t<tr><td>16100</td><td>term_36</td><td>13.99</td><td>C4</td><td>CT</td><td>Not_Verified   </td><td> 35000</td><td>emp_5    </td><td>0</td><td>0</td><td>⋯</td><td>0</td><td>0</td><td> 1099</td><td>48</td><td>0</td><td>3</td><td>0</td><td> 3</td><td>13193</td><td>good</td></tr>\n",
       "\t<tr><td>32000</td><td>term_60</td><td>11.99</td><td>C1</td><td>MN</td><td>Verified       </td><td> 72000</td><td>emp_ge_10</td><td>0</td><td>0</td><td>⋯</td><td>1</td><td>3</td><td>49187</td><td>77</td><td>0</td><td>0</td><td>0</td><td> 9</td><td>65945</td><td>good</td></tr>\n",
       "\t<tr><td>10000</td><td>term_36</td><td>16.29</td><td>D1</td><td>OH</td><td>Source_Verified</td><td> 72000</td><td>emp_ge_10</td><td>0</td><td>2</td><td>⋯</td><td>2</td><td>3</td><td>33378</td><td>79</td><td>1</td><td>4</td><td>0</td><td> 9</td><td>39387</td><td>good</td></tr>\n",
       "\t<tr><td>16800</td><td>term_60</td><td>13.67</td><td>C3</td><td>NV</td><td>Verified       </td><td>101000</td><td>emp_lt_1 </td><td>0</td><td>0</td><td>⋯</td><td>1</td><td>2</td><td>55445</td><td>64</td><td>1</td><td>4</td><td>0</td><td>10</td><td>60188</td><td>good</td></tr>\n",
       "\t<tr><td> 3500</td><td>term_36</td><td> 7.39</td><td>A4</td><td>CA</td><td>Source_Verified</td><td> 50100</td><td>emp_unk  </td><td>0</td><td>0</td><td>⋯</td><td>0</td><td>0</td><td>    0</td><td>78</td><td>0</td><td>0</td><td>0</td><td> 3</td><td>    0</td><td>good</td></tr>\n",
       "\t<tr><td>10000</td><td>term_36</td><td>11.47</td><td>B5</td><td>TX</td><td>Source_Verified</td><td> 32000</td><td>emp_lt_1 </td><td>0</td><td>0</td><td>⋯</td><td>0</td><td>0</td><td> 7574</td><td>66</td><td>0</td><td>0</td><td>0</td><td> 9</td><td>12131</td><td>good</td></tr>\n",
       "</tbody>\n",
       "</table>\n"
      ],
      "text/latex": [
       "A tibble: 6 × 23\n",
       "\\begin{tabular}{lllllllllllllllllllll}\n",
       " funded\\_amnt & term & int\\_rate & sub\\_grade & addr\\_state & verification\\_status & annual\\_inc & emp\\_length & delinq\\_2yrs & inq\\_last\\_6mths & ⋯ & open\\_il\\_12m & open\\_il\\_24m & total\\_bal\\_il & all\\_util & inq\\_fi & inq\\_last\\_12m & delinq\\_amnt & num\\_il\\_tl & total\\_il\\_high\\_credit\\_limit & Class\\\\\n",
       " <int> & <fct> & <dbl> & <fct> & <fct> & <fct> & <dbl> & <fct> & <int> & <int> & ⋯ & <int> & <int> & <int> & <int> & <int> & <int> & <int> & <int> & <int> & <fct>\\\\\n",
       "\\hline\n",
       "\t 16100 & term\\_36 & 13.99 & C4 & CT & Not\\_Verified    &  35000 & emp\\_5     & 0 & 0 & ⋯ & 0 & 0 &  1099 & 48 & 0 & 3 & 0 &  3 & 13193 & good\\\\\n",
       "\t 32000 & term\\_60 & 11.99 & C1 & MN & Verified        &  72000 & emp\\_ge\\_10 & 0 & 0 & ⋯ & 1 & 3 & 49187 & 77 & 0 & 0 & 0 &  9 & 65945 & good\\\\\n",
       "\t 10000 & term\\_36 & 16.29 & D1 & OH & Source\\_Verified &  72000 & emp\\_ge\\_10 & 0 & 2 & ⋯ & 2 & 3 & 33378 & 79 & 1 & 4 & 0 &  9 & 39387 & good\\\\\n",
       "\t 16800 & term\\_60 & 13.67 & C3 & NV & Verified        & 101000 & emp\\_lt\\_1  & 0 & 0 & ⋯ & 1 & 2 & 55445 & 64 & 1 & 4 & 0 & 10 & 60188 & good\\\\\n",
       "\t  3500 & term\\_36 &  7.39 & A4 & CA & Source\\_Verified &  50100 & emp\\_unk   & 0 & 0 & ⋯ & 0 & 0 &     0 & 78 & 0 & 0 & 0 &  3 &     0 & good\\\\\n",
       "\t 10000 & term\\_36 & 11.47 & B5 & TX & Source\\_Verified &  32000 & emp\\_lt\\_1  & 0 & 0 & ⋯ & 0 & 0 &  7574 & 66 & 0 & 0 & 0 &  9 & 12131 & good\\\\\n",
       "\\end{tabular}\n"
      ],
      "text/markdown": [
       "\n",
       "A tibble: 6 × 23\n",
       "\n",
       "| funded_amnt &lt;int&gt; | term &lt;fct&gt; | int_rate &lt;dbl&gt; | sub_grade &lt;fct&gt; | addr_state &lt;fct&gt; | verification_status &lt;fct&gt; | annual_inc &lt;dbl&gt; | emp_length &lt;fct&gt; | delinq_2yrs &lt;int&gt; | inq_last_6mths &lt;int&gt; | ⋯ ⋯ | open_il_12m &lt;int&gt; | open_il_24m &lt;int&gt; | total_bal_il &lt;int&gt; | all_util &lt;int&gt; | inq_fi &lt;int&gt; | inq_last_12m &lt;int&gt; | delinq_amnt &lt;int&gt; | num_il_tl &lt;int&gt; | total_il_high_credit_limit &lt;int&gt; | Class &lt;fct&gt; |\n",
       "|---|---|---|---|---|---|---|---|---|---|---|---|---|---|---|---|---|---|---|---|---|\n",
       "| 16100 | term_36 | 13.99 | C4 | CT | Not_Verified    |  35000 | emp_5     | 0 | 0 | ⋯ | 0 | 0 |  1099 | 48 | 0 | 3 | 0 |  3 | 13193 | good |\n",
       "| 32000 | term_60 | 11.99 | C1 | MN | Verified        |  72000 | emp_ge_10 | 0 | 0 | ⋯ | 1 | 3 | 49187 | 77 | 0 | 0 | 0 |  9 | 65945 | good |\n",
       "| 10000 | term_36 | 16.29 | D1 | OH | Source_Verified |  72000 | emp_ge_10 | 0 | 2 | ⋯ | 2 | 3 | 33378 | 79 | 1 | 4 | 0 |  9 | 39387 | good |\n",
       "| 16800 | term_60 | 13.67 | C3 | NV | Verified        | 101000 | emp_lt_1  | 0 | 0 | ⋯ | 1 | 2 | 55445 | 64 | 1 | 4 | 0 | 10 | 60188 | good |\n",
       "|  3500 | term_36 |  7.39 | A4 | CA | Source_Verified |  50100 | emp_unk   | 0 | 0 | ⋯ | 0 | 0 |     0 | 78 | 0 | 0 | 0 |  3 |     0 | good |\n",
       "| 10000 | term_36 | 11.47 | B5 | TX | Source_Verified |  32000 | emp_lt_1  | 0 | 0 | ⋯ | 0 | 0 |  7574 | 66 | 0 | 0 | 0 |  9 | 12131 | good |\n",
       "\n"
      ],
      "text/plain": [
       "  funded_amnt term    int_rate sub_grade addr_state verification_status\n",
       "1 16100       term_36 13.99    C4        CT         Not_Verified       \n",
       "2 32000       term_60 11.99    C1        MN         Verified           \n",
       "3 10000       term_36 16.29    D1        OH         Source_Verified    \n",
       "4 16800       term_60 13.67    C3        NV         Verified           \n",
       "5  3500       term_36  7.39    A4        CA         Source_Verified    \n",
       "6 10000       term_36 11.47    B5        TX         Source_Verified    \n",
       "  annual_inc emp_length delinq_2yrs inq_last_6mths ⋯ open_il_12m open_il_24m\n",
       "1  35000     emp_5      0           0              ⋯ 0           0          \n",
       "2  72000     emp_ge_10  0           0              ⋯ 1           3          \n",
       "3  72000     emp_ge_10  0           2              ⋯ 2           3          \n",
       "4 101000     emp_lt_1   0           0              ⋯ 1           2          \n",
       "5  50100     emp_unk    0           0              ⋯ 0           0          \n",
       "6  32000     emp_lt_1   0           0              ⋯ 0           0          \n",
       "  total_bal_il all_util inq_fi inq_last_12m delinq_amnt num_il_tl\n",
       "1  1099        48       0      3            0            3       \n",
       "2 49187        77       0      0            0            9       \n",
       "3 33378        79       1      4            0            9       \n",
       "4 55445        64       1      4            0           10       \n",
       "5     0        78       0      0            0            3       \n",
       "6  7574        66       0      0            0            9       \n",
       "  total_il_high_credit_limit Class\n",
       "1 13193                      good \n",
       "2 65945                      good \n",
       "3 39387                      good \n",
       "4 60188                      good \n",
       "5     0                      good \n",
       "6 12131                      good "
      ]
     },
     "metadata": {},
     "output_type": "display_data"
    }
   ],
   "source": [
    "loan_data <- lending_club\n",
    "head(loan_data)"
   ]
  },
  {
   "cell_type": "markdown",
   "id": "a500ee08-f2ba-4707-ac5d-bdcac2f54777",
   "metadata": {},
   "source": [
    "## Make a select operation of columns"
   ]
  },
  {
   "cell_type": "code",
   "execution_count": 3,
   "id": "9022b203-748c-4913-8a7b-04a8b19addab",
   "metadata": {
    "tags": []
   },
   "outputs": [
    {
     "data": {
      "text/html": [
       "<table class=\"dataframe\">\n",
       "<caption>A tibble: 6 × 4</caption>\n",
       "<thead>\n",
       "\t<tr><th scope=col>funded_amnt</th><th scope=col>term</th><th scope=col>int_rate</th><th scope=col>Class</th></tr>\n",
       "\t<tr><th scope=col>&lt;int&gt;</th><th scope=col>&lt;fct&gt;</th><th scope=col>&lt;dbl&gt;</th><th scope=col>&lt;fct&gt;</th></tr>\n",
       "</thead>\n",
       "<tbody>\n",
       "\t<tr><td>16100</td><td>term_36</td><td>13.99</td><td>good</td></tr>\n",
       "\t<tr><td>32000</td><td>term_60</td><td>11.99</td><td>good</td></tr>\n",
       "\t<tr><td>10000</td><td>term_36</td><td>16.29</td><td>good</td></tr>\n",
       "\t<tr><td>16800</td><td>term_60</td><td>13.67</td><td>good</td></tr>\n",
       "\t<tr><td> 3500</td><td>term_36</td><td> 7.39</td><td>good</td></tr>\n",
       "\t<tr><td>10000</td><td>term_36</td><td>11.47</td><td>good</td></tr>\n",
       "</tbody>\n",
       "</table>\n"
      ],
      "text/latex": [
       "A tibble: 6 × 4\n",
       "\\begin{tabular}{llll}\n",
       " funded\\_amnt & term & int\\_rate & Class\\\\\n",
       " <int> & <fct> & <dbl> & <fct>\\\\\n",
       "\\hline\n",
       "\t 16100 & term\\_36 & 13.99 & good\\\\\n",
       "\t 32000 & term\\_60 & 11.99 & good\\\\\n",
       "\t 10000 & term\\_36 & 16.29 & good\\\\\n",
       "\t 16800 & term\\_60 & 13.67 & good\\\\\n",
       "\t  3500 & term\\_36 &  7.39 & good\\\\\n",
       "\t 10000 & term\\_36 & 11.47 & good\\\\\n",
       "\\end{tabular}\n"
      ],
      "text/markdown": [
       "\n",
       "A tibble: 6 × 4\n",
       "\n",
       "| funded_amnt &lt;int&gt; | term &lt;fct&gt; | int_rate &lt;dbl&gt; | Class &lt;fct&gt; |\n",
       "|---|---|---|---|\n",
       "| 16100 | term_36 | 13.99 | good |\n",
       "| 32000 | term_60 | 11.99 | good |\n",
       "| 10000 | term_36 | 16.29 | good |\n",
       "| 16800 | term_60 | 13.67 | good |\n",
       "|  3500 | term_36 |  7.39 | good |\n",
       "| 10000 | term_36 | 11.47 | good |\n",
       "\n"
      ],
      "text/plain": [
       "  funded_amnt term    int_rate Class\n",
       "1 16100       term_36 13.99    good \n",
       "2 32000       term_60 11.99    good \n",
       "3 10000       term_36 16.29    good \n",
       "4 16800       term_60 13.67    good \n",
       "5  3500       term_36  7.39    good \n",
       "6 10000       term_36 11.47    good "
      ]
     },
     "metadata": {},
     "output_type": "display_data"
    }
   ],
   "source": [
    "loan_data %>% \n",
    "select(funded_amnt, term, int_rate, Class) %>%\n",
    "head"
   ]
  },
  {
   "cell_type": "markdown",
   "id": "98d1a600-d520-4d21-80bd-46013d433c19",
   "metadata": {},
   "source": [
    "## Make a filter operation of rows"
   ]
  },
  {
   "cell_type": "code",
   "execution_count": 4,
   "id": "68a6a17f-4bc6-405d-8bab-8b8ba5cf61ef",
   "metadata": {
    "tags": []
   },
   "outputs": [
    {
     "data": {
      "text/html": [
       "<table class=\"dataframe\">\n",
       "<caption>A tibble: 6 × 23</caption>\n",
       "<thead>\n",
       "\t<tr><th scope=col>funded_amnt</th><th scope=col>term</th><th scope=col>int_rate</th><th scope=col>sub_grade</th><th scope=col>addr_state</th><th scope=col>verification_status</th><th scope=col>annual_inc</th><th scope=col>emp_length</th><th scope=col>delinq_2yrs</th><th scope=col>inq_last_6mths</th><th scope=col>⋯</th><th scope=col>open_il_12m</th><th scope=col>open_il_24m</th><th scope=col>total_bal_il</th><th scope=col>all_util</th><th scope=col>inq_fi</th><th scope=col>inq_last_12m</th><th scope=col>delinq_amnt</th><th scope=col>num_il_tl</th><th scope=col>total_il_high_credit_limit</th><th scope=col>Class</th></tr>\n",
       "\t<tr><th scope=col>&lt;int&gt;</th><th scope=col>&lt;fct&gt;</th><th scope=col>&lt;dbl&gt;</th><th scope=col>&lt;fct&gt;</th><th scope=col>&lt;fct&gt;</th><th scope=col>&lt;fct&gt;</th><th scope=col>&lt;dbl&gt;</th><th scope=col>&lt;fct&gt;</th><th scope=col>&lt;int&gt;</th><th scope=col>&lt;int&gt;</th><th scope=col>⋯</th><th scope=col>&lt;int&gt;</th><th scope=col>&lt;int&gt;</th><th scope=col>&lt;int&gt;</th><th scope=col>&lt;int&gt;</th><th scope=col>&lt;int&gt;</th><th scope=col>&lt;int&gt;</th><th scope=col>&lt;int&gt;</th><th scope=col>&lt;int&gt;</th><th scope=col>&lt;int&gt;</th><th scope=col>&lt;fct&gt;</th></tr>\n",
       "</thead>\n",
       "<tbody>\n",
       "\t<tr><td>32000</td><td>term_60</td><td>11.99</td><td>C1</td><td>MN</td><td>Verified</td><td> 72000</td><td>emp_ge_10</td><td>0</td><td>0</td><td>⋯</td><td>1</td><td>3</td><td>49187</td><td>77</td><td>0</td><td>0</td><td>0</td><td> 9</td><td>65945</td><td>good</td></tr>\n",
       "\t<tr><td>16800</td><td>term_60</td><td>13.67</td><td>C3</td><td>NV</td><td>Verified</td><td>101000</td><td>emp_lt_1 </td><td>0</td><td>0</td><td>⋯</td><td>1</td><td>2</td><td>55445</td><td>64</td><td>1</td><td>4</td><td>0</td><td>10</td><td>60188</td><td>good</td></tr>\n",
       "\t<tr><td>15000</td><td>term_60</td><td>15.77</td><td>D1</td><td>TX</td><td>Verified</td><td> 65000</td><td>emp_6    </td><td>0</td><td>1</td><td>⋯</td><td>4</td><td>6</td><td>29045</td><td>81</td><td>7</td><td>5</td><td>0</td><td> 9</td><td>34381</td><td>good</td></tr>\n",
       "\t<tr><td>20000</td><td>term_36</td><td>10.75</td><td>B4</td><td>TN</td><td>Verified</td><td> 75000</td><td>emp_lt_1 </td><td>0</td><td>0</td><td>⋯</td><td>0</td><td>1</td><td>55392</td><td>79</td><td>0</td><td>0</td><td>0</td><td> 4</td><td>67283</td><td>good</td></tr>\n",
       "\t<tr><td>16200</td><td>term_36</td><td>16.29</td><td>D1</td><td>MS</td><td>Verified</td><td> 36000</td><td>emp_2    </td><td>1</td><td>2</td><td>⋯</td><td>1</td><td>3</td><td>31663</td><td>58</td><td>0</td><td>2</td><td>0</td><td>11</td><td>41048</td><td>good</td></tr>\n",
       "\t<tr><td>20000</td><td>term_36</td><td>11.99</td><td>C1</td><td>VA</td><td>Verified</td><td> 65000</td><td>emp_ge_10</td><td>0</td><td>2</td><td>⋯</td><td>2</td><td>2</td><td>55944</td><td>85</td><td>2</td><td>6</td><td>0</td><td>15</td><td>64016</td><td>good</td></tr>\n",
       "</tbody>\n",
       "</table>\n"
      ],
      "text/latex": [
       "A tibble: 6 × 23\n",
       "\\begin{tabular}{lllllllllllllllllllll}\n",
       " funded\\_amnt & term & int\\_rate & sub\\_grade & addr\\_state & verification\\_status & annual\\_inc & emp\\_length & delinq\\_2yrs & inq\\_last\\_6mths & ⋯ & open\\_il\\_12m & open\\_il\\_24m & total\\_bal\\_il & all\\_util & inq\\_fi & inq\\_last\\_12m & delinq\\_amnt & num\\_il\\_tl & total\\_il\\_high\\_credit\\_limit & Class\\\\\n",
       " <int> & <fct> & <dbl> & <fct> & <fct> & <fct> & <dbl> & <fct> & <int> & <int> & ⋯ & <int> & <int> & <int> & <int> & <int> & <int> & <int> & <int> & <int> & <fct>\\\\\n",
       "\\hline\n",
       "\t 32000 & term\\_60 & 11.99 & C1 & MN & Verified &  72000 & emp\\_ge\\_10 & 0 & 0 & ⋯ & 1 & 3 & 49187 & 77 & 0 & 0 & 0 &  9 & 65945 & good\\\\\n",
       "\t 16800 & term\\_60 & 13.67 & C3 & NV & Verified & 101000 & emp\\_lt\\_1  & 0 & 0 & ⋯ & 1 & 2 & 55445 & 64 & 1 & 4 & 0 & 10 & 60188 & good\\\\\n",
       "\t 15000 & term\\_60 & 15.77 & D1 & TX & Verified &  65000 & emp\\_6     & 0 & 1 & ⋯ & 4 & 6 & 29045 & 81 & 7 & 5 & 0 &  9 & 34381 & good\\\\\n",
       "\t 20000 & term\\_36 & 10.75 & B4 & TN & Verified &  75000 & emp\\_lt\\_1  & 0 & 0 & ⋯ & 0 & 1 & 55392 & 79 & 0 & 0 & 0 &  4 & 67283 & good\\\\\n",
       "\t 16200 & term\\_36 & 16.29 & D1 & MS & Verified &  36000 & emp\\_2     & 1 & 2 & ⋯ & 1 & 3 & 31663 & 58 & 0 & 2 & 0 & 11 & 41048 & good\\\\\n",
       "\t 20000 & term\\_36 & 11.99 & C1 & VA & Verified &  65000 & emp\\_ge\\_10 & 0 & 2 & ⋯ & 2 & 2 & 55944 & 85 & 2 & 6 & 0 & 15 & 64016 & good\\\\\n",
       "\\end{tabular}\n"
      ],
      "text/markdown": [
       "\n",
       "A tibble: 6 × 23\n",
       "\n",
       "| funded_amnt &lt;int&gt; | term &lt;fct&gt; | int_rate &lt;dbl&gt; | sub_grade &lt;fct&gt; | addr_state &lt;fct&gt; | verification_status &lt;fct&gt; | annual_inc &lt;dbl&gt; | emp_length &lt;fct&gt; | delinq_2yrs &lt;int&gt; | inq_last_6mths &lt;int&gt; | ⋯ ⋯ | open_il_12m &lt;int&gt; | open_il_24m &lt;int&gt; | total_bal_il &lt;int&gt; | all_util &lt;int&gt; | inq_fi &lt;int&gt; | inq_last_12m &lt;int&gt; | delinq_amnt &lt;int&gt; | num_il_tl &lt;int&gt; | total_il_high_credit_limit &lt;int&gt; | Class &lt;fct&gt; |\n",
       "|---|---|---|---|---|---|---|---|---|---|---|---|---|---|---|---|---|---|---|---|---|\n",
       "| 32000 | term_60 | 11.99 | C1 | MN | Verified |  72000 | emp_ge_10 | 0 | 0 | ⋯ | 1 | 3 | 49187 | 77 | 0 | 0 | 0 |  9 | 65945 | good |\n",
       "| 16800 | term_60 | 13.67 | C3 | NV | Verified | 101000 | emp_lt_1  | 0 | 0 | ⋯ | 1 | 2 | 55445 | 64 | 1 | 4 | 0 | 10 | 60188 | good |\n",
       "| 15000 | term_60 | 15.77 | D1 | TX | Verified |  65000 | emp_6     | 0 | 1 | ⋯ | 4 | 6 | 29045 | 81 | 7 | 5 | 0 |  9 | 34381 | good |\n",
       "| 20000 | term_36 | 10.75 | B4 | TN | Verified |  75000 | emp_lt_1  | 0 | 0 | ⋯ | 0 | 1 | 55392 | 79 | 0 | 0 | 0 |  4 | 67283 | good |\n",
       "| 16200 | term_36 | 16.29 | D1 | MS | Verified |  36000 | emp_2     | 1 | 2 | ⋯ | 1 | 3 | 31663 | 58 | 0 | 2 | 0 | 11 | 41048 | good |\n",
       "| 20000 | term_36 | 11.99 | C1 | VA | Verified |  65000 | emp_ge_10 | 0 | 2 | ⋯ | 2 | 2 | 55944 | 85 | 2 | 6 | 0 | 15 | 64016 | good |\n",
       "\n"
      ],
      "text/plain": [
       "  funded_amnt term    int_rate sub_grade addr_state verification_status\n",
       "1 32000       term_60 11.99    C1        MN         Verified           \n",
       "2 16800       term_60 13.67    C3        NV         Verified           \n",
       "3 15000       term_60 15.77    D1        TX         Verified           \n",
       "4 20000       term_36 10.75    B4        TN         Verified           \n",
       "5 16200       term_36 16.29    D1        MS         Verified           \n",
       "6 20000       term_36 11.99    C1        VA         Verified           \n",
       "  annual_inc emp_length delinq_2yrs inq_last_6mths ⋯ open_il_12m open_il_24m\n",
       "1  72000     emp_ge_10  0           0              ⋯ 1           3          \n",
       "2 101000     emp_lt_1   0           0              ⋯ 1           2          \n",
       "3  65000     emp_6      0           1              ⋯ 4           6          \n",
       "4  75000     emp_lt_1   0           0              ⋯ 0           1          \n",
       "5  36000     emp_2      1           2              ⋯ 1           3          \n",
       "6  65000     emp_ge_10  0           2              ⋯ 2           2          \n",
       "  total_bal_il all_util inq_fi inq_last_12m delinq_amnt num_il_tl\n",
       "1 49187        77       0      0            0            9       \n",
       "2 55445        64       1      4            0           10       \n",
       "3 29045        81       7      5            0            9       \n",
       "4 55392        79       0      0            0            4       \n",
       "5 31663        58       0      2            0           11       \n",
       "6 55944        85       2      6            0           15       \n",
       "  total_il_high_credit_limit Class\n",
       "1 65945                      good \n",
       "2 60188                      good \n",
       "3 34381                      good \n",
       "4 67283                      good \n",
       "5 41048                      good \n",
       "6 64016                      good "
      ]
     },
     "metadata": {},
     "output_type": "display_data"
    }
   ],
   "source": [
    "loan_data %>%\n",
    "filter( (int_rate > 5) & (funded_amnt > 10000) & (verification_status == \"Verified\") ) %>%\n",
    "head"
   ]
  },
  {
   "cell_type": "markdown",
   "id": "f7cb55c5-e9b1-4cc7-98e8-1bc099bd4b47",
   "metadata": {
    "tags": []
   },
   "source": [
    "## Make a mutate operation to create a new column"
   ]
  },
  {
   "cell_type": "code",
   "execution_count": 5,
   "id": "87dfba92-6651-412e-8fce-a68ff3225999",
   "metadata": {
    "tags": []
   },
   "outputs": [
    {
     "data": {
      "text/html": [
       "<table class=\"dataframe\">\n",
       "<caption>A tibble: 6 × 24</caption>\n",
       "<thead>\n",
       "\t<tr><th scope=col>funded_amnt</th><th scope=col>term</th><th scope=col>int_rate</th><th scope=col>sub_grade</th><th scope=col>addr_state</th><th scope=col>verification_status</th><th scope=col>annual_inc</th><th scope=col>emp_length</th><th scope=col>delinq_2yrs</th><th scope=col>inq_last_6mths</th><th scope=col>⋯</th><th scope=col>open_il_24m</th><th scope=col>total_bal_il</th><th scope=col>all_util</th><th scope=col>inq_fi</th><th scope=col>inq_last_12m</th><th scope=col>delinq_amnt</th><th scope=col>num_il_tl</th><th scope=col>total_il_high_credit_limit</th><th scope=col>Class</th><th scope=col>total_amnt</th></tr>\n",
       "\t<tr><th scope=col>&lt;int&gt;</th><th scope=col>&lt;fct&gt;</th><th scope=col>&lt;dbl&gt;</th><th scope=col>&lt;fct&gt;</th><th scope=col>&lt;fct&gt;</th><th scope=col>&lt;fct&gt;</th><th scope=col>&lt;dbl&gt;</th><th scope=col>&lt;fct&gt;</th><th scope=col>&lt;int&gt;</th><th scope=col>&lt;int&gt;</th><th scope=col>⋯</th><th scope=col>&lt;int&gt;</th><th scope=col>&lt;int&gt;</th><th scope=col>&lt;int&gt;</th><th scope=col>&lt;int&gt;</th><th scope=col>&lt;int&gt;</th><th scope=col>&lt;int&gt;</th><th scope=col>&lt;int&gt;</th><th scope=col>&lt;int&gt;</th><th scope=col>&lt;fct&gt;</th><th scope=col>&lt;dbl&gt;</th></tr>\n",
       "</thead>\n",
       "<tbody>\n",
       "\t<tr><td>16100</td><td>term_36</td><td>13.99</td><td>C4</td><td>CT</td><td>Not_Verified   </td><td> 35000</td><td>emp_5    </td><td>0</td><td>0</td><td>⋯</td><td>0</td><td> 1099</td><td>48</td><td>0</td><td>3</td><td>0</td><td> 3</td><td>13193</td><td>good</td><td>241339</td></tr>\n",
       "\t<tr><td>32000</td><td>term_60</td><td>11.99</td><td>C1</td><td>MN</td><td>Verified       </td><td> 72000</td><td>emp_ge_10</td><td>0</td><td>0</td><td>⋯</td><td>3</td><td>49187</td><td>77</td><td>0</td><td>0</td><td>0</td><td> 9</td><td>65945</td><td>good</td><td>415680</td></tr>\n",
       "\t<tr><td>10000</td><td>term_36</td><td>16.29</td><td>D1</td><td>OH</td><td>Source_Verified</td><td> 72000</td><td>emp_ge_10</td><td>0</td><td>2</td><td>⋯</td><td>3</td><td>33378</td><td>79</td><td>1</td><td>4</td><td>0</td><td> 9</td><td>39387</td><td>good</td><td>172900</td></tr>\n",
       "\t<tr><td>16800</td><td>term_60</td><td>13.67</td><td>C3</td><td>NV</td><td>Verified       </td><td>101000</td><td>emp_lt_1 </td><td>0</td><td>0</td><td>⋯</td><td>2</td><td>55445</td><td>64</td><td>1</td><td>4</td><td>0</td><td>10</td><td>60188</td><td>good</td><td>246456</td></tr>\n",
       "\t<tr><td> 3500</td><td>term_36</td><td> 7.39</td><td>A4</td><td>CA</td><td>Source_Verified</td><td> 50100</td><td>emp_unk  </td><td>0</td><td>0</td><td>⋯</td><td>0</td><td>    0</td><td>78</td><td>0</td><td>0</td><td>0</td><td> 3</td><td>    0</td><td>good</td><td> 29365</td></tr>\n",
       "\t<tr><td>10000</td><td>term_36</td><td>11.47</td><td>B5</td><td>TX</td><td>Source_Verified</td><td> 32000</td><td>emp_lt_1 </td><td>0</td><td>0</td><td>⋯</td><td>0</td><td> 7574</td><td>66</td><td>0</td><td>0</td><td>0</td><td> 9</td><td>12131</td><td>good</td><td>124700</td></tr>\n",
       "</tbody>\n",
       "</table>\n"
      ],
      "text/latex": [
       "A tibble: 6 × 24\n",
       "\\begin{tabular}{lllllllllllllllllllll}\n",
       " funded\\_amnt & term & int\\_rate & sub\\_grade & addr\\_state & verification\\_status & annual\\_inc & emp\\_length & delinq\\_2yrs & inq\\_last\\_6mths & ⋯ & open\\_il\\_24m & total\\_bal\\_il & all\\_util & inq\\_fi & inq\\_last\\_12m & delinq\\_amnt & num\\_il\\_tl & total\\_il\\_high\\_credit\\_limit & Class & total\\_amnt\\\\\n",
       " <int> & <fct> & <dbl> & <fct> & <fct> & <fct> & <dbl> & <fct> & <int> & <int> & ⋯ & <int> & <int> & <int> & <int> & <int> & <int> & <int> & <int> & <fct> & <dbl>\\\\\n",
       "\\hline\n",
       "\t 16100 & term\\_36 & 13.99 & C4 & CT & Not\\_Verified    &  35000 & emp\\_5     & 0 & 0 & ⋯ & 0 &  1099 & 48 & 0 & 3 & 0 &  3 & 13193 & good & 241339\\\\\n",
       "\t 32000 & term\\_60 & 11.99 & C1 & MN & Verified        &  72000 & emp\\_ge\\_10 & 0 & 0 & ⋯ & 3 & 49187 & 77 & 0 & 0 & 0 &  9 & 65945 & good & 415680\\\\\n",
       "\t 10000 & term\\_36 & 16.29 & D1 & OH & Source\\_Verified &  72000 & emp\\_ge\\_10 & 0 & 2 & ⋯ & 3 & 33378 & 79 & 1 & 4 & 0 &  9 & 39387 & good & 172900\\\\\n",
       "\t 16800 & term\\_60 & 13.67 & C3 & NV & Verified        & 101000 & emp\\_lt\\_1  & 0 & 0 & ⋯ & 2 & 55445 & 64 & 1 & 4 & 0 & 10 & 60188 & good & 246456\\\\\n",
       "\t  3500 & term\\_36 &  7.39 & A4 & CA & Source\\_Verified &  50100 & emp\\_unk   & 0 & 0 & ⋯ & 0 &     0 & 78 & 0 & 0 & 0 &  3 &     0 & good &  29365\\\\\n",
       "\t 10000 & term\\_36 & 11.47 & B5 & TX & Source\\_Verified &  32000 & emp\\_lt\\_1  & 0 & 0 & ⋯ & 0 &  7574 & 66 & 0 & 0 & 0 &  9 & 12131 & good & 124700\\\\\n",
       "\\end{tabular}\n"
      ],
      "text/markdown": [
       "\n",
       "A tibble: 6 × 24\n",
       "\n",
       "| funded_amnt &lt;int&gt; | term &lt;fct&gt; | int_rate &lt;dbl&gt; | sub_grade &lt;fct&gt; | addr_state &lt;fct&gt; | verification_status &lt;fct&gt; | annual_inc &lt;dbl&gt; | emp_length &lt;fct&gt; | delinq_2yrs &lt;int&gt; | inq_last_6mths &lt;int&gt; | ⋯ ⋯ | open_il_24m &lt;int&gt; | total_bal_il &lt;int&gt; | all_util &lt;int&gt; | inq_fi &lt;int&gt; | inq_last_12m &lt;int&gt; | delinq_amnt &lt;int&gt; | num_il_tl &lt;int&gt; | total_il_high_credit_limit &lt;int&gt; | Class &lt;fct&gt; | total_amnt &lt;dbl&gt; |\n",
       "|---|---|---|---|---|---|---|---|---|---|---|---|---|---|---|---|---|---|---|---|---|\n",
       "| 16100 | term_36 | 13.99 | C4 | CT | Not_Verified    |  35000 | emp_5     | 0 | 0 | ⋯ | 0 |  1099 | 48 | 0 | 3 | 0 |  3 | 13193 | good | 241339 |\n",
       "| 32000 | term_60 | 11.99 | C1 | MN | Verified        |  72000 | emp_ge_10 | 0 | 0 | ⋯ | 3 | 49187 | 77 | 0 | 0 | 0 |  9 | 65945 | good | 415680 |\n",
       "| 10000 | term_36 | 16.29 | D1 | OH | Source_Verified |  72000 | emp_ge_10 | 0 | 2 | ⋯ | 3 | 33378 | 79 | 1 | 4 | 0 |  9 | 39387 | good | 172900 |\n",
       "| 16800 | term_60 | 13.67 | C3 | NV | Verified        | 101000 | emp_lt_1  | 0 | 0 | ⋯ | 2 | 55445 | 64 | 1 | 4 | 0 | 10 | 60188 | good | 246456 |\n",
       "|  3500 | term_36 |  7.39 | A4 | CA | Source_Verified |  50100 | emp_unk   | 0 | 0 | ⋯ | 0 |     0 | 78 | 0 | 0 | 0 |  3 |     0 | good |  29365 |\n",
       "| 10000 | term_36 | 11.47 | B5 | TX | Source_Verified |  32000 | emp_lt_1  | 0 | 0 | ⋯ | 0 |  7574 | 66 | 0 | 0 | 0 |  9 | 12131 | good | 124700 |\n",
       "\n"
      ],
      "text/plain": [
       "  funded_amnt term    int_rate sub_grade addr_state verification_status\n",
       "1 16100       term_36 13.99    C4        CT         Not_Verified       \n",
       "2 32000       term_60 11.99    C1        MN         Verified           \n",
       "3 10000       term_36 16.29    D1        OH         Source_Verified    \n",
       "4 16800       term_60 13.67    C3        NV         Verified           \n",
       "5  3500       term_36  7.39    A4        CA         Source_Verified    \n",
       "6 10000       term_36 11.47    B5        TX         Source_Verified    \n",
       "  annual_inc emp_length delinq_2yrs inq_last_6mths ⋯ open_il_24m total_bal_il\n",
       "1  35000     emp_5      0           0              ⋯ 0            1099       \n",
       "2  72000     emp_ge_10  0           0              ⋯ 3           49187       \n",
       "3  72000     emp_ge_10  0           2              ⋯ 3           33378       \n",
       "4 101000     emp_lt_1   0           0              ⋯ 2           55445       \n",
       "5  50100     emp_unk    0           0              ⋯ 0               0       \n",
       "6  32000     emp_lt_1   0           0              ⋯ 0            7574       \n",
       "  all_util inq_fi inq_last_12m delinq_amnt num_il_tl total_il_high_credit_limit\n",
       "1 48       0      3            0            3        13193                     \n",
       "2 77       0      0            0            9        65945                     \n",
       "3 79       1      4            0            9        39387                     \n",
       "4 64       1      4            0           10        60188                     \n",
       "5 78       0      0            0            3            0                     \n",
       "6 66       0      0            0            9        12131                     \n",
       "  Class total_amnt\n",
       "1 good  241339    \n",
       "2 good  415680    \n",
       "3 good  172900    \n",
       "4 good  246456    \n",
       "5 good   29365    \n",
       "6 good  124700    "
      ]
     },
     "metadata": {},
     "output_type": "display_data"
    }
   ],
   "source": [
    "loan_data %<>%\n",
    "mutate(total_amnt = (funded_amnt)*(1+int_rate))\n",
    "\n",
    "head(loan_data)"
   ]
  },
  {
   "cell_type": "markdown",
   "id": "8d5ccbac-3ec3-47e4-8f61-f1d5d7dc6832",
   "metadata": {},
   "source": [
    "## Make a group_by and summarize operation"
   ]
  },
  {
   "cell_type": "code",
   "execution_count": 6,
   "id": "6a47f1b3-3b4a-46f9-b8e1-b78895bdebe6",
   "metadata": {
    "tags": []
   },
   "outputs": [
    {
     "data": {
      "text/html": [
       "<table class=\"dataframe\">\n",
       "<caption>A tibble: 2 × 3</caption>\n",
       "<thead>\n",
       "\t<tr><th scope=col>Class</th><th scope=col>mean_amount</th><th scope=col>mean_int_rate</th></tr>\n",
       "\t<tr><th scope=col>&lt;fct&gt;</th><th scope=col>&lt;dbl&gt;</th><th scope=col>&lt;dbl&gt;</th></tr>\n",
       "</thead>\n",
       "<tbody>\n",
       "\t<tr><td>bad </td><td>301750.5</td><td>16.74166</td></tr>\n",
       "\t<tr><td>good</td><td>212427.7</td><td>12.29322</td></tr>\n",
       "</tbody>\n",
       "</table>\n"
      ],
      "text/latex": [
       "A tibble: 2 × 3\n",
       "\\begin{tabular}{lll}\n",
       " Class & mean\\_amount & mean\\_int\\_rate\\\\\n",
       " <fct> & <dbl> & <dbl>\\\\\n",
       "\\hline\n",
       "\t bad  & 301750.5 & 16.74166\\\\\n",
       "\t good & 212427.7 & 12.29322\\\\\n",
       "\\end{tabular}\n"
      ],
      "text/markdown": [
       "\n",
       "A tibble: 2 × 3\n",
       "\n",
       "| Class &lt;fct&gt; | mean_amount &lt;dbl&gt; | mean_int_rate &lt;dbl&gt; |\n",
       "|---|---|---|\n",
       "| bad  | 301750.5 | 16.74166 |\n",
       "| good | 212427.7 | 12.29322 |\n",
       "\n"
      ],
      "text/plain": [
       "  Class mean_amount mean_int_rate\n",
       "1 bad   301750.5    16.74166     \n",
       "2 good  212427.7    12.29322     "
      ]
     },
     "metadata": {},
     "output_type": "display_data"
    }
   ],
   "source": [
    "loan_data %>%\n",
    "group_by(Class) %>%\n",
    "summarise(mean_amount = mean(total_amnt, na.rm = T),\n",
    "          mean_int_rate = mean(int_rate, na.rm = T))"
   ]
  },
  {
   "cell_type": "markdown",
   "id": "ebfff8a6-b0f4-4313-b849-c5eed53aba58",
   "metadata": {},
   "source": [
    "## Make a pivot_wider operation"
   ]
  },
  {
   "cell_type": "code",
   "execution_count": 7,
   "id": "75a8e809-791f-46b9-841b-faaa64401356",
   "metadata": {
    "tags": []
   },
   "outputs": [
    {
     "data": {
      "text/html": [
       "<table class=\"dataframe\">\n",
       "<caption>A tibble: 6 × 4</caption>\n",
       "<thead>\n",
       "\t<tr><th scope=col>emp_length</th><th scope=col>max_fund</th><th scope=col>min_fund</th><th scope=col>av_fund</th></tr>\n",
       "\t<tr><th scope=col>&lt;fct&gt;</th><th scope=col>&lt;int&gt;</th><th scope=col>&lt;int&gt;</th><th scope=col>&lt;dbl&gt;</th></tr>\n",
       "</thead>\n",
       "<tbody>\n",
       "\t<tr><td>emp_lt_1 </td><td>40000</td><td>1000</td><td>15169.95</td></tr>\n",
       "\t<tr><td>emp_1    </td><td>40000</td><td>1000</td><td>14906.97</td></tr>\n",
       "\t<tr><td>emp_ge_10</td><td>40000</td><td>1000</td><td>17028.11</td></tr>\n",
       "\t<tr><td>emp_2    </td><td>40000</td><td>1000</td><td>14952.10</td></tr>\n",
       "\t<tr><td>emp_3    </td><td>40000</td><td>1000</td><td>15170.94</td></tr>\n",
       "\t<tr><td>emp_4    </td><td>35000</td><td>1000</td><td>15013.93</td></tr>\n",
       "</tbody>\n",
       "</table>\n"
      ],
      "text/latex": [
       "A tibble: 6 × 4\n",
       "\\begin{tabular}{llll}\n",
       " emp\\_length & max\\_fund & min\\_fund & av\\_fund\\\\\n",
       " <fct> & <int> & <int> & <dbl>\\\\\n",
       "\\hline\n",
       "\t emp\\_lt\\_1  & 40000 & 1000 & 15169.95\\\\\n",
       "\t emp\\_1     & 40000 & 1000 & 14906.97\\\\\n",
       "\t emp\\_ge\\_10 & 40000 & 1000 & 17028.11\\\\\n",
       "\t emp\\_2     & 40000 & 1000 & 14952.10\\\\\n",
       "\t emp\\_3     & 40000 & 1000 & 15170.94\\\\\n",
       "\t emp\\_4     & 35000 & 1000 & 15013.93\\\\\n",
       "\\end{tabular}\n"
      ],
      "text/markdown": [
       "\n",
       "A tibble: 6 × 4\n",
       "\n",
       "| emp_length &lt;fct&gt; | max_fund &lt;int&gt; | min_fund &lt;int&gt; | av_fund &lt;dbl&gt; |\n",
       "|---|---|---|---|\n",
       "| emp_lt_1  | 40000 | 1000 | 15169.95 |\n",
       "| emp_1     | 40000 | 1000 | 14906.97 |\n",
       "| emp_ge_10 | 40000 | 1000 | 17028.11 |\n",
       "| emp_2     | 40000 | 1000 | 14952.10 |\n",
       "| emp_3     | 40000 | 1000 | 15170.94 |\n",
       "| emp_4     | 35000 | 1000 | 15013.93 |\n",
       "\n"
      ],
      "text/plain": [
       "  emp_length max_fund min_fund av_fund \n",
       "1 emp_lt_1   40000    1000     15169.95\n",
       "2 emp_1      40000    1000     14906.97\n",
       "3 emp_ge_10  40000    1000     17028.11\n",
       "4 emp_2      40000    1000     14952.10\n",
       "5 emp_3      40000    1000     15170.94\n",
       "6 emp_4      35000    1000     15013.93"
      ]
     },
     "metadata": {},
     "output_type": "display_data"
    }
   ],
   "source": [
    "loan_at <- loan_data %>%\n",
    "group_by(emp_length) %>%\n",
    "summarise(max_fund = max(funded_amnt, na.rm = T),\n",
    "          min_fund = min(funded_amnt, na.rm = T),\n",
    "          av_fund = mean(funded_amnt, na.rm = T))\n",
    "\n",
    "head(loan_at)"
   ]
  },
  {
   "cell_type": "code",
   "execution_count": 8,
   "id": "01b6d6a1-3eaf-487b-9359-748d2f717539",
   "metadata": {
    "tags": []
   },
   "outputs": [
    {
     "data": {
      "text/html": [
       "<table class=\"dataframe\">\n",
       "<caption>A tibble: 1 × 36</caption>\n",
       "<thead>\n",
       "\t<tr><th scope=col>max_fund_emp_lt_1</th><th scope=col>max_fund_emp_1</th><th scope=col>max_fund_emp_ge_10</th><th scope=col>max_fund_emp_2</th><th scope=col>max_fund_emp_3</th><th scope=col>max_fund_emp_4</th><th scope=col>max_fund_emp_5</th><th scope=col>max_fund_emp_6</th><th scope=col>max_fund_emp_7</th><th scope=col>max_fund_emp_8</th><th scope=col>⋯</th><th scope=col>av_fund_emp_ge_10</th><th scope=col>av_fund_emp_2</th><th scope=col>av_fund_emp_3</th><th scope=col>av_fund_emp_4</th><th scope=col>av_fund_emp_5</th><th scope=col>av_fund_emp_6</th><th scope=col>av_fund_emp_7</th><th scope=col>av_fund_emp_8</th><th scope=col>av_fund_emp_9</th><th scope=col>av_fund_emp_unk</th></tr>\n",
       "\t<tr><th scope=col>&lt;int&gt;</th><th scope=col>&lt;int&gt;</th><th scope=col>&lt;int&gt;</th><th scope=col>&lt;int&gt;</th><th scope=col>&lt;int&gt;</th><th scope=col>&lt;int&gt;</th><th scope=col>&lt;int&gt;</th><th scope=col>&lt;int&gt;</th><th scope=col>&lt;int&gt;</th><th scope=col>&lt;int&gt;</th><th scope=col>⋯</th><th scope=col>&lt;dbl&gt;</th><th scope=col>&lt;dbl&gt;</th><th scope=col>&lt;dbl&gt;</th><th scope=col>&lt;dbl&gt;</th><th scope=col>&lt;dbl&gt;</th><th scope=col>&lt;dbl&gt;</th><th scope=col>&lt;dbl&gt;</th><th scope=col>&lt;dbl&gt;</th><th scope=col>&lt;dbl&gt;</th><th scope=col>&lt;dbl&gt;</th></tr>\n",
       "</thead>\n",
       "<tbody>\n",
       "\t<tr><td>40000</td><td>40000</td><td>40000</td><td>40000</td><td>40000</td><td>35000</td><td>40000</td><td>40000</td><td>35000</td><td>40000</td><td>⋯</td><td>17028.11</td><td>14952.1</td><td>15170.94</td><td>15013.93</td><td>15268.58</td><td>16410.71</td><td>15728.37</td><td>15376.22</td><td>15241.11</td><td>12424.11</td></tr>\n",
       "</tbody>\n",
       "</table>\n"
      ],
      "text/latex": [
       "A tibble: 1 × 36\n",
       "\\begin{tabular}{lllllllllllllllllllll}\n",
       " max\\_fund\\_emp\\_lt\\_1 & max\\_fund\\_emp\\_1 & max\\_fund\\_emp\\_ge\\_10 & max\\_fund\\_emp\\_2 & max\\_fund\\_emp\\_3 & max\\_fund\\_emp\\_4 & max\\_fund\\_emp\\_5 & max\\_fund\\_emp\\_6 & max\\_fund\\_emp\\_7 & max\\_fund\\_emp\\_8 & ⋯ & av\\_fund\\_emp\\_ge\\_10 & av\\_fund\\_emp\\_2 & av\\_fund\\_emp\\_3 & av\\_fund\\_emp\\_4 & av\\_fund\\_emp\\_5 & av\\_fund\\_emp\\_6 & av\\_fund\\_emp\\_7 & av\\_fund\\_emp\\_8 & av\\_fund\\_emp\\_9 & av\\_fund\\_emp\\_unk\\\\\n",
       " <int> & <int> & <int> & <int> & <int> & <int> & <int> & <int> & <int> & <int> & ⋯ & <dbl> & <dbl> & <dbl> & <dbl> & <dbl> & <dbl> & <dbl> & <dbl> & <dbl> & <dbl>\\\\\n",
       "\\hline\n",
       "\t 40000 & 40000 & 40000 & 40000 & 40000 & 35000 & 40000 & 40000 & 35000 & 40000 & ⋯ & 17028.11 & 14952.1 & 15170.94 & 15013.93 & 15268.58 & 16410.71 & 15728.37 & 15376.22 & 15241.11 & 12424.11\\\\\n",
       "\\end{tabular}\n"
      ],
      "text/markdown": [
       "\n",
       "A tibble: 1 × 36\n",
       "\n",
       "| max_fund_emp_lt_1 &lt;int&gt; | max_fund_emp_1 &lt;int&gt; | max_fund_emp_ge_10 &lt;int&gt; | max_fund_emp_2 &lt;int&gt; | max_fund_emp_3 &lt;int&gt; | max_fund_emp_4 &lt;int&gt; | max_fund_emp_5 &lt;int&gt; | max_fund_emp_6 &lt;int&gt; | max_fund_emp_7 &lt;int&gt; | max_fund_emp_8 &lt;int&gt; | ⋯ ⋯ | av_fund_emp_ge_10 &lt;dbl&gt; | av_fund_emp_2 &lt;dbl&gt; | av_fund_emp_3 &lt;dbl&gt; | av_fund_emp_4 &lt;dbl&gt; | av_fund_emp_5 &lt;dbl&gt; | av_fund_emp_6 &lt;dbl&gt; | av_fund_emp_7 &lt;dbl&gt; | av_fund_emp_8 &lt;dbl&gt; | av_fund_emp_9 &lt;dbl&gt; | av_fund_emp_unk &lt;dbl&gt; |\n",
       "|---|---|---|---|---|---|---|---|---|---|---|---|---|---|---|---|---|---|---|---|---|\n",
       "| 40000 | 40000 | 40000 | 40000 | 40000 | 35000 | 40000 | 40000 | 35000 | 40000 | ⋯ | 17028.11 | 14952.1 | 15170.94 | 15013.93 | 15268.58 | 16410.71 | 15728.37 | 15376.22 | 15241.11 | 12424.11 |\n",
       "\n"
      ],
      "text/plain": [
       "  max_fund_emp_lt_1 max_fund_emp_1 max_fund_emp_ge_10 max_fund_emp_2\n",
       "1 40000             40000          40000              40000         \n",
       "  max_fund_emp_3 max_fund_emp_4 max_fund_emp_5 max_fund_emp_6 max_fund_emp_7\n",
       "1 40000          35000          40000          40000          35000         \n",
       "  max_fund_emp_8 ⋯ av_fund_emp_ge_10 av_fund_emp_2 av_fund_emp_3 av_fund_emp_4\n",
       "1 40000          ⋯ 17028.11          14952.1       15170.94      15013.93     \n",
       "  av_fund_emp_5 av_fund_emp_6 av_fund_emp_7 av_fund_emp_8 av_fund_emp_9\n",
       "1 15268.58      16410.71      15728.37      15376.22      15241.11     \n",
       "  av_fund_emp_unk\n",
       "1 12424.11       "
      ]
     },
     "metadata": {},
     "output_type": "display_data"
    }
   ],
   "source": [
    "loan_at_wide <- loan_at %>%\n",
    "  pivot_wider(names_from = emp_length,\n",
    "              values_from = c(max_fund, min_fund, av_fund))\n",
    "\n",
    "head(loan_at_wide)"
   ]
  },
  {
   "cell_type": "markdown",
   "id": "b18dc979-1a69-4991-aabc-1f27d18b145f",
   "metadata": {},
   "source": [
    "## Make a pivot_longer operation"
   ]
  },
  {
   "cell_type": "code",
   "execution_count": 9,
   "id": "a0c75fb1-acf5-419d-828b-f009a6310ad0",
   "metadata": {
    "tags": []
   },
   "outputs": [
    {
     "data": {
      "text/html": [
       "<table class=\"dataframe\">\n",
       "<caption>A tibble: 6 × 5</caption>\n",
       "<thead>\n",
       "\t<tr><th scope=col>emp_length</th><th scope=col>stat</th><th scope=col>av</th><th scope=col>max</th><th scope=col>min</th></tr>\n",
       "\t<tr><th scope=col>&lt;fct&gt;</th><th scope=col>&lt;chr&gt;</th><th scope=col>&lt;dbl&gt;</th><th scope=col>&lt;int&gt;</th><th scope=col>&lt;int&gt;</th></tr>\n",
       "</thead>\n",
       "<tbody>\n",
       "\t<tr><td>emp_lt_1 </td><td>fund</td><td>15169.95</td><td>40000</td><td>1000</td></tr>\n",
       "\t<tr><td>emp_1    </td><td>fund</td><td>14906.97</td><td>40000</td><td>1000</td></tr>\n",
       "\t<tr><td>emp_ge_10</td><td>fund</td><td>17028.11</td><td>40000</td><td>1000</td></tr>\n",
       "\t<tr><td>emp_2    </td><td>fund</td><td>14952.10</td><td>40000</td><td>1000</td></tr>\n",
       "\t<tr><td>emp_3    </td><td>fund</td><td>15170.94</td><td>40000</td><td>1000</td></tr>\n",
       "\t<tr><td>emp_4    </td><td>fund</td><td>15013.93</td><td>35000</td><td>1000</td></tr>\n",
       "</tbody>\n",
       "</table>\n"
      ],
      "text/latex": [
       "A tibble: 6 × 5\n",
       "\\begin{tabular}{lllll}\n",
       " emp\\_length & stat & av & max & min\\\\\n",
       " <fct> & <chr> & <dbl> & <int> & <int>\\\\\n",
       "\\hline\n",
       "\t emp\\_lt\\_1  & fund & 15169.95 & 40000 & 1000\\\\\n",
       "\t emp\\_1     & fund & 14906.97 & 40000 & 1000\\\\\n",
       "\t emp\\_ge\\_10 & fund & 17028.11 & 40000 & 1000\\\\\n",
       "\t emp\\_2     & fund & 14952.10 & 40000 & 1000\\\\\n",
       "\t emp\\_3     & fund & 15170.94 & 40000 & 1000\\\\\n",
       "\t emp\\_4     & fund & 15013.93 & 35000 & 1000\\\\\n",
       "\\end{tabular}\n"
      ],
      "text/markdown": [
       "\n",
       "A tibble: 6 × 5\n",
       "\n",
       "| emp_length &lt;fct&gt; | stat &lt;chr&gt; | av &lt;dbl&gt; | max &lt;int&gt; | min &lt;int&gt; |\n",
       "|---|---|---|---|---|\n",
       "| emp_lt_1  | fund | 15169.95 | 40000 | 1000 |\n",
       "| emp_1     | fund | 14906.97 | 40000 | 1000 |\n",
       "| emp_ge_10 | fund | 17028.11 | 40000 | 1000 |\n",
       "| emp_2     | fund | 14952.10 | 40000 | 1000 |\n",
       "| emp_3     | fund | 15170.94 | 40000 | 1000 |\n",
       "| emp_4     | fund | 15013.93 | 35000 | 1000 |\n",
       "\n"
      ],
      "text/plain": [
       "  emp_length stat av       max   min \n",
       "1 emp_lt_1   fund 15169.95 40000 1000\n",
       "2 emp_1      fund 14906.97 40000 1000\n",
       "3 emp_ge_10  fund 17028.11 40000 1000\n",
       "4 emp_2      fund 14952.10 40000 1000\n",
       "5 emp_3      fund 15170.94 40000 1000\n",
       "6 emp_4      fund 15013.93 35000 1000"
      ]
     },
     "metadata": {},
     "output_type": "display_data"
    }
   ],
   "source": [
    "loan_at_long <- loan_at %>%\n",
    "  pivot_longer(cols = starts_with(\"av_\") | starts_with(\"max_\") | starts_with(\"min_\"),\n",
    "               names_to = c(\".value\", \"stat\"),\n",
    "               names_sep = \"_\")\n",
    "\n",
    "head(loan_at_long)"
   ]
  },
  {
   "cell_type": "markdown",
   "id": "006ef0db-614d-4591-ae9c-f47a660f79fa",
   "metadata": {},
   "source": [
    "## Make a left_join operation with another table with common columns (you can create a new table out of the original one for this purpose, if you don't have a second table)"
   ]
  },
  {
   "cell_type": "code",
   "execution_count": 10,
   "id": "e1bbe2ba-8944-421a-9ecc-55a2bf26bbdb",
   "metadata": {
    "tags": []
   },
   "outputs": [
    {
     "name": "stderr",
     "output_type": "stream",
     "text": [
      "Warning message in left_join(., other_table, by = \"emp_length\"):\n",
      "“\u001b[1m\u001b[22mDetected an unexpected many-to-many relationship between `x` and `y`.\n",
      "\u001b[36mℹ\u001b[39m Row 2 of `x` matches multiple rows in `y`.\n",
      "\u001b[36mℹ\u001b[39m Row 1 of `y` matches multiple rows in `x`.\n",
      "\u001b[36mℹ\u001b[39m If a many-to-many relationship is expected, set `relationship =\n",
      "  \"many-to-many\"` to silence this warning.”\n"
     ]
    },
    {
     "data": {
      "text/html": [
       "<table class=\"dataframe\">\n",
       "<caption>A tibble: 6 × 25</caption>\n",
       "<thead>\n",
       "\t<tr><th scope=col>funded_amnt</th><th scope=col>term</th><th scope=col>int_rate</th><th scope=col>sub_grade</th><th scope=col>addr_state</th><th scope=col>verification_status</th><th scope=col>annual_inc</th><th scope=col>emp_length</th><th scope=col>delinq_2yrs</th><th scope=col>inq_last_6mths</th><th scope=col>⋯</th><th scope=col>total_bal_il</th><th scope=col>all_util</th><th scope=col>inq_fi</th><th scope=col>inq_last_12m</th><th scope=col>delinq_amnt</th><th scope=col>num_il_tl</th><th scope=col>total_il_high_credit_limit</th><th scope=col>Class</th><th scope=col>total_amnt</th><th scope=col>some_other_data</th></tr>\n",
       "\t<tr><th scope=col>&lt;int&gt;</th><th scope=col>&lt;fct&gt;</th><th scope=col>&lt;dbl&gt;</th><th scope=col>&lt;fct&gt;</th><th scope=col>&lt;fct&gt;</th><th scope=col>&lt;fct&gt;</th><th scope=col>&lt;dbl&gt;</th><th scope=col>&lt;chr&gt;</th><th scope=col>&lt;int&gt;</th><th scope=col>&lt;int&gt;</th><th scope=col>⋯</th><th scope=col>&lt;int&gt;</th><th scope=col>&lt;int&gt;</th><th scope=col>&lt;int&gt;</th><th scope=col>&lt;int&gt;</th><th scope=col>&lt;int&gt;</th><th scope=col>&lt;int&gt;</th><th scope=col>&lt;int&gt;</th><th scope=col>&lt;fct&gt;</th><th scope=col>&lt;dbl&gt;</th><th scope=col>&lt;dbl&gt;</th></tr>\n",
       "</thead>\n",
       "<tbody>\n",
       "\t<tr><td>16100</td><td>term_36</td><td>13.99</td><td>C4</td><td>CT</td><td>Not_Verified   </td><td>35000</td><td>emp_5    </td><td>0</td><td>0</td><td>⋯</td><td> 1099</td><td>48</td><td>0</td><td>3</td><td>0</td><td>3</td><td>13193</td><td>good</td><td>241339</td><td>0.36286283</td></tr>\n",
       "\t<tr><td>32000</td><td>term_60</td><td>11.99</td><td>C1</td><td>MN</td><td>Verified       </td><td>72000</td><td>emp_ge_10</td><td>0</td><td>0</td><td>⋯</td><td>49187</td><td>77</td><td>0</td><td>0</td><td>0</td><td>9</td><td>65945</td><td>good</td><td>415680</td><td>0.97951951</td></tr>\n",
       "\t<tr><td>32000</td><td>term_60</td><td>11.99</td><td>C1</td><td>MN</td><td>Verified       </td><td>72000</td><td>emp_ge_10</td><td>0</td><td>0</td><td>⋯</td><td>49187</td><td>77</td><td>0</td><td>0</td><td>0</td><td>9</td><td>65945</td><td>good</td><td>415680</td><td>0.11982051</td></tr>\n",
       "\t<tr><td>32000</td><td>term_60</td><td>11.99</td><td>C1</td><td>MN</td><td>Verified       </td><td>72000</td><td>emp_ge_10</td><td>0</td><td>0</td><td>⋯</td><td>49187</td><td>77</td><td>0</td><td>0</td><td>0</td><td>9</td><td>65945</td><td>good</td><td>415680</td><td>0.05071552</td></tr>\n",
       "\t<tr><td>10000</td><td>term_36</td><td>16.29</td><td>D1</td><td>OH</td><td>Source_Verified</td><td>72000</td><td>emp_ge_10</td><td>0</td><td>2</td><td>⋯</td><td>33378</td><td>79</td><td>1</td><td>4</td><td>0</td><td>9</td><td>39387</td><td>good</td><td>172900</td><td>0.97951951</td></tr>\n",
       "\t<tr><td>10000</td><td>term_36</td><td>16.29</td><td>D1</td><td>OH</td><td>Source_Verified</td><td>72000</td><td>emp_ge_10</td><td>0</td><td>2</td><td>⋯</td><td>33378</td><td>79</td><td>1</td><td>4</td><td>0</td><td>9</td><td>39387</td><td>good</td><td>172900</td><td>0.11982051</td></tr>\n",
       "</tbody>\n",
       "</table>\n"
      ],
      "text/latex": [
       "A tibble: 6 × 25\n",
       "\\begin{tabular}{lllllllllllllllllllll}\n",
       " funded\\_amnt & term & int\\_rate & sub\\_grade & addr\\_state & verification\\_status & annual\\_inc & emp\\_length & delinq\\_2yrs & inq\\_last\\_6mths & ⋯ & total\\_bal\\_il & all\\_util & inq\\_fi & inq\\_last\\_12m & delinq\\_amnt & num\\_il\\_tl & total\\_il\\_high\\_credit\\_limit & Class & total\\_amnt & some\\_other\\_data\\\\\n",
       " <int> & <fct> & <dbl> & <fct> & <fct> & <fct> & <dbl> & <chr> & <int> & <int> & ⋯ & <int> & <int> & <int> & <int> & <int> & <int> & <int> & <fct> & <dbl> & <dbl>\\\\\n",
       "\\hline\n",
       "\t 16100 & term\\_36 & 13.99 & C4 & CT & Not\\_Verified    & 35000 & emp\\_5     & 0 & 0 & ⋯ &  1099 & 48 & 0 & 3 & 0 & 3 & 13193 & good & 241339 & 0.36286283\\\\\n",
       "\t 32000 & term\\_60 & 11.99 & C1 & MN & Verified        & 72000 & emp\\_ge\\_10 & 0 & 0 & ⋯ & 49187 & 77 & 0 & 0 & 0 & 9 & 65945 & good & 415680 & 0.97951951\\\\\n",
       "\t 32000 & term\\_60 & 11.99 & C1 & MN & Verified        & 72000 & emp\\_ge\\_10 & 0 & 0 & ⋯ & 49187 & 77 & 0 & 0 & 0 & 9 & 65945 & good & 415680 & 0.11982051\\\\\n",
       "\t 32000 & term\\_60 & 11.99 & C1 & MN & Verified        & 72000 & emp\\_ge\\_10 & 0 & 0 & ⋯ & 49187 & 77 & 0 & 0 & 0 & 9 & 65945 & good & 415680 & 0.05071552\\\\\n",
       "\t 10000 & term\\_36 & 16.29 & D1 & OH & Source\\_Verified & 72000 & emp\\_ge\\_10 & 0 & 2 & ⋯ & 33378 & 79 & 1 & 4 & 0 & 9 & 39387 & good & 172900 & 0.97951951\\\\\n",
       "\t 10000 & term\\_36 & 16.29 & D1 & OH & Source\\_Verified & 72000 & emp\\_ge\\_10 & 0 & 2 & ⋯ & 33378 & 79 & 1 & 4 & 0 & 9 & 39387 & good & 172900 & 0.11982051\\\\\n",
       "\\end{tabular}\n"
      ],
      "text/markdown": [
       "\n",
       "A tibble: 6 × 25\n",
       "\n",
       "| funded_amnt &lt;int&gt; | term &lt;fct&gt; | int_rate &lt;dbl&gt; | sub_grade &lt;fct&gt; | addr_state &lt;fct&gt; | verification_status &lt;fct&gt; | annual_inc &lt;dbl&gt; | emp_length &lt;chr&gt; | delinq_2yrs &lt;int&gt; | inq_last_6mths &lt;int&gt; | ⋯ ⋯ | total_bal_il &lt;int&gt; | all_util &lt;int&gt; | inq_fi &lt;int&gt; | inq_last_12m &lt;int&gt; | delinq_amnt &lt;int&gt; | num_il_tl &lt;int&gt; | total_il_high_credit_limit &lt;int&gt; | Class &lt;fct&gt; | total_amnt &lt;dbl&gt; | some_other_data &lt;dbl&gt; |\n",
       "|---|---|---|---|---|---|---|---|---|---|---|---|---|---|---|---|---|---|---|---|---|\n",
       "| 16100 | term_36 | 13.99 | C4 | CT | Not_Verified    | 35000 | emp_5     | 0 | 0 | ⋯ |  1099 | 48 | 0 | 3 | 0 | 3 | 13193 | good | 241339 | 0.36286283 |\n",
       "| 32000 | term_60 | 11.99 | C1 | MN | Verified        | 72000 | emp_ge_10 | 0 | 0 | ⋯ | 49187 | 77 | 0 | 0 | 0 | 9 | 65945 | good | 415680 | 0.97951951 |\n",
       "| 32000 | term_60 | 11.99 | C1 | MN | Verified        | 72000 | emp_ge_10 | 0 | 0 | ⋯ | 49187 | 77 | 0 | 0 | 0 | 9 | 65945 | good | 415680 | 0.11982051 |\n",
       "| 32000 | term_60 | 11.99 | C1 | MN | Verified        | 72000 | emp_ge_10 | 0 | 0 | ⋯ | 49187 | 77 | 0 | 0 | 0 | 9 | 65945 | good | 415680 | 0.05071552 |\n",
       "| 10000 | term_36 | 16.29 | D1 | OH | Source_Verified | 72000 | emp_ge_10 | 0 | 2 | ⋯ | 33378 | 79 | 1 | 4 | 0 | 9 | 39387 | good | 172900 | 0.97951951 |\n",
       "| 10000 | term_36 | 16.29 | D1 | OH | Source_Verified | 72000 | emp_ge_10 | 0 | 2 | ⋯ | 33378 | 79 | 1 | 4 | 0 | 9 | 39387 | good | 172900 | 0.11982051 |\n",
       "\n"
      ],
      "text/plain": [
       "  funded_amnt term    int_rate sub_grade addr_state verification_status\n",
       "1 16100       term_36 13.99    C4        CT         Not_Verified       \n",
       "2 32000       term_60 11.99    C1        MN         Verified           \n",
       "3 32000       term_60 11.99    C1        MN         Verified           \n",
       "4 32000       term_60 11.99    C1        MN         Verified           \n",
       "5 10000       term_36 16.29    D1        OH         Source_Verified    \n",
       "6 10000       term_36 16.29    D1        OH         Source_Verified    \n",
       "  annual_inc emp_length delinq_2yrs inq_last_6mths ⋯ total_bal_il all_util\n",
       "1 35000      emp_5      0           0              ⋯  1099        48      \n",
       "2 72000      emp_ge_10  0           0              ⋯ 49187        77      \n",
       "3 72000      emp_ge_10  0           0              ⋯ 49187        77      \n",
       "4 72000      emp_ge_10  0           0              ⋯ 49187        77      \n",
       "5 72000      emp_ge_10  0           2              ⋯ 33378        79      \n",
       "6 72000      emp_ge_10  0           2              ⋯ 33378        79      \n",
       "  inq_fi inq_last_12m delinq_amnt num_il_tl total_il_high_credit_limit Class\n",
       "1 0      3            0           3         13193                      good \n",
       "2 0      0            0           9         65945                      good \n",
       "3 0      0            0           9         65945                      good \n",
       "4 0      0            0           9         65945                      good \n",
       "5 1      4            0           9         39387                      good \n",
       "6 1      4            0           9         39387                      good \n",
       "  total_amnt some_other_data\n",
       "1 241339     0.36286283     \n",
       "2 415680     0.97951951     \n",
       "3 415680     0.11982051     \n",
       "4 415680     0.05071552     \n",
       "5 172900     0.97951951     \n",
       "6 172900     0.11982051     "
      ]
     },
     "metadata": {},
     "output_type": "display_data"
    }
   ],
   "source": [
    "other_table <- data.frame(\n",
    "  emp_length = sample(c(\"emp_5\", \"emp_ge_10\", \"emp_lt_1\"), 5, replace = TRUE),\n",
    "  some_other_data = runif(5)\n",
    ")\n",
    "\n",
    "joined_table <- loan_data %>%\n",
    "  left_join(other_table, by = \"emp_length\")\n",
    "\n",
    "head(joined_table)"
   ]
  }
 ],
 "metadata": {
  "kernelspec": {
   "display_name": "R",
   "language": "R",
   "name": "ir"
  },
  "language_info": {
   "codemirror_mode": "r",
   "file_extension": ".r",
   "mimetype": "text/x-r-source",
   "name": "R",
   "pygments_lexer": "r",
   "version": "4.2.1"
  }
 },
 "nbformat": 4,
 "nbformat_minor": 5
}
