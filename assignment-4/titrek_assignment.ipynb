{
 "cells": [
  {
   "cell_type": "code",
   "execution_count": null,
   "id": "2a09de85-798e-40e3-b658-90110a96249a",
   "metadata": {
    "tags": []
   },
   "outputs": [],
   "source": [
    "library(tidyverse)\n",
    "library(DBI)\n",
    "library(dbplyr)\n",
    "library(RSQLite)\n",
    "library(carData)\n",
    "library(datasets)"
   ]
  },
  {
   "cell_type": "markdown",
   "id": "53f4a14c-94e5-4131-9615-e44b1374daf5",
   "metadata": {},
   "source": [
    "### Task 1:\n",
    "\n",
    "- You have to have at least two tables and there must be at least one column in each of the tables that a relation can be created through joins.\n",
    "- Create a new connection object by creating a new SQLite db file\n",
    "- Write your tables into the SQLite database through the connection\n",
    "- Create lazy query objects to each of the tables in the database (not the original tables, but to the tables imported into the SQLite database)\n",
    "- Create other lazy query object(s) by using select, filter, mutate, group_by, summarise and any join function, using each of them at least once.\n",
    "- There should be a final lazy query object that combines all previous steps into one.\n",
    "- Show the underlying sql query of that object\n",
    "- Collect the data into a data.frame/tibble/data.table and preview it by calling the name of the assigned object"
   ]
  },
  {
   "cell_type": "code",
   "execution_count": null,
   "id": "f511ff2e-faef-4249-8d37-a3900fa1a6f3",
   "metadata": {
    "tags": []
   },
   "outputs": [],
   "source": [
    "state_data <- as.data.frame(state.x77)\n",
    "usarrests_data <- as.data.frame(USArrests)"
   ]
  },
  {
   "cell_type": "code",
   "execution_count": null,
   "id": "485cad87-47e7-4ed5-aa7e-66da392d020f",
   "metadata": {
    "tags": []
   },
   "outputs": [],
   "source": [
    "head(state_data)"
   ]
  },
  {
   "cell_type": "code",
   "execution_count": null,
   "id": "dcbac4f7-1510-4ace-b542-addd079dca5f",
   "metadata": {
    "tags": []
   },
   "outputs": [],
   "source": [
    "head(usarrests_data)"
   ]
  },
  {
   "cell_type": "code",
   "execution_count": null,
   "id": "a5f775c8-d72a-491a-8f07-54c49fc8a058",
   "metadata": {
    "tags": []
   },
   "outputs": [],
   "source": [
    "if (file.exists(\"~titrek_database1.db\")) file.remove(\"~/titrek_database1.db\")\n",
    "consq <- dbConnect(RSQLite::SQLite(), dbname = \"titrek_database1.db\")"
   ]
  },
  {
   "cell_type": "code",
   "execution_count": null,
   "id": "b2edaa9b-4151-44b5-b7ac-07891df06b61",
   "metadata": {
    "tags": []
   },
   "outputs": [],
   "source": [
    "# Create tables in the SQLite database\n",
    "dbWriteTable(consq,\n",
    "             name = \"state_data\",\n",
    "             value = state_data,\n",
    "             row.names = TRUE)\n",
    "\n",
    "dbWriteTable(consq,\n",
    "             name = \"usarrests_data\",\n",
    "             value = usarrests_data,\n",
    "             row.names = TRUE)"
   ]
  },
  {
   "cell_type": "code",
   "execution_count": null,
   "id": "24bbc1e5-4148-437c-a41a-ed359762f08c",
   "metadata": {
    "tags": []
   },
   "outputs": [],
   "source": [
    "# Create lazy query objects for each table\n",
    "statedata_tbl <- tbl(consq, \"state_data\")\n",
    "usarrests_data_tbl <- tbl(consq, \"usarrests_data\")"
   ]
  },
  {
   "cell_type": "code",
   "execution_count": null,
   "id": "f86c0cb7-8a56-481c-84d2-7fcfaf814de6",
   "metadata": {
    "tags": []
   },
   "outputs": [],
   "source": [
    "statedata_tbl"
   ]
  },
  {
   "cell_type": "code",
   "execution_count": null,
   "id": "3e58ee19-fc1e-4706-adb6-f49bf87ac047",
   "metadata": {
    "tags": []
   },
   "outputs": [],
   "source": [
    "usarrests_data_tbl"
   ]
  },
  {
   "cell_type": "code",
   "execution_count": null,
   "id": "b408839b-bd92-4558-a78f-be2dcb9df4f8",
   "metadata": {
    "tags": []
   },
   "outputs": [],
   "source": [
    "#select, filter, mutate, group_by, summarise and any join function, using each of them at least once.\n"
   ]
  },
  {
   "cell_type": "code",
   "execution_count": null,
   "id": "caf4f5f4-dedc-4695-9d65-dbe40041a8fa",
   "metadata": {
    "tags": []
   },
   "outputs": [],
   "source": [
    "arrest_query1 <- usarrests_data_tbl %>% \n",
    "    select(row_names, Murder, Assault)\n",
    "\n",
    "arrest_query2 <- arrest_query1 %>%\n",
    "    filter( (Murder>5) & (Assault>235) )\n",
    "    \n",
    "arrest_query3 <- arrest_query2 %>%\n",
    "    mutate(TotalCrime = Murder + Assault)\n",
    "\n",
    "arrest_query4 <- arrest_query3 %>%\n",
    "  mutate(CrimeLevel = case_when(\n",
    "    TotalCrime > 300 ~ \"High Crime\",\n",
    "    TotalCrime <= 300 ~ \"Low Crime\"\n",
    "  ))\n",
    "\n",
    "arrest_query5 <- arrest_query4 %>%\n",
    "  group_by(row_names, CrimeLevel) %>%\n",
    "  summarise(avg_crime = mean(TotalCrime))\n",
    "\n",
    "arrest_query5_with_state <- left_join(arrest_query5,\n",
    "                                      statedata_tbl,\n",
    "                                      by = \"row_names\")\n",
    "\n",
    "arrest_query5_with_state"
   ]
  },
  {
   "cell_type": "code",
   "execution_count": null,
   "id": "accefdcc-72bb-4340-9e94-a74d154f59c4",
   "metadata": {
    "tags": []
   },
   "outputs": [],
   "source": [
    "arrest_query5_with_state %>%\n",
    "    show_query"
   ]
  },
  {
   "cell_type": "code",
   "execution_count": null,
   "id": "459a57e8-ab0a-4c13-957d-3e734de5b6eb",
   "metadata": {
    "tags": []
   },
   "outputs": [],
   "source": [
    "final_data <- collect(arrest_query5_with_state)\n",
    "head(final_data)"
   ]
  },
  {
   "cell_type": "markdown",
   "id": "29b58cde-4505-4fb1-ad93-6f28ac5c08bf",
   "metadata": {},
   "source": [
    "## Task 2:\n",
    "\n",
    "- Create a datetime (POSIXct) or date object in any way you like. It can be a simple vector. You can also use a dataset with such a column.\n",
    "\n",
    "- Use at least three datetime/date operations/functions as to your liking on this datetime/date object."
   ]
  },
  {
   "cell_type": "code",
   "execution_count": null,
   "id": "434a4f04-a324-4df2-b57f-7c920160b260",
   "metadata": {
    "tags": []
   },
   "outputs": [],
   "source": [
    "datetime_vector <- as.POSIXct(c(\"2024-03-22 15:00:00\",\n",
    "                                \"1999-05-15 00:30:00\",\n",
    "                                \"2000-12-24 15:45:00\"))\n",
    "\n",
    "datetime_vector"
   ]
  },
  {
   "cell_type": "code",
   "execution_count": null,
   "id": "3da6de77-9c79-4de8-8308-02963bb89285",
   "metadata": {
    "tags": []
   },
   "outputs": [],
   "source": [
    "hour_component <- format(datetime_vector, \"%H%s\")\n",
    "hour_component"
   ]
  },
  {
   "cell_type": "code",
   "execution_count": null,
   "id": "30055e15-edd6-48b1-8ba4-86199ae215cd",
   "metadata": {
    "tags": []
   },
   "outputs": [],
   "source": [
    "next_day <- datetime_vector + 86400 \n",
    "next_day"
   ]
  },
  {
   "cell_type": "code",
   "execution_count": null,
   "id": "3037f3b7-e69f-43c6-bb7c-1017ce659c22",
   "metadata": {
    "tags": []
   },
   "outputs": [],
   "source": [
    "time_diff <- as.numeric(difftime(Sys.time(),\n",
    "                                 datetime_vector,\n",
    "                                 units = \"mins\"))\n",
    "time_diff"
   ]
  }
 ],
 "metadata": {
  "kernelspec": {
   "display_name": "R",
   "language": "R",
   "name": "ir"
  },
  "language_info": {
   "codemirror_mode": "r",
   "file_extension": ".r",
   "mimetype": "text/x-r-source",
   "name": "R",
   "pygments_lexer": "r",
   "version": "4.2.1"
  }
 },
 "nbformat": 4,
 "nbformat_minor": 5
}
