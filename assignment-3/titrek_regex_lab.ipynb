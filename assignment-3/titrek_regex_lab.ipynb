{
 "cells": [
  {
   "cell_type": "markdown",
   "id": "55f0c1ae-ae04-4ad6-ad9f-574429fbaf73",
   "metadata": {},
   "source": [
    "### Load tidyverse package with library() command"
   ]
  },
  {
   "cell_type": "code",
   "execution_count": 1,
   "id": "c8396274-05aa-40be-944b-04204eefd7b3",
   "metadata": {
    "tags": []
   },
   "outputs": [
    {
     "name": "stderr",
     "output_type": "stream",
     "text": [
      "Warning message in system(\"timedatectl\", intern = TRUE):\n",
      "“running command 'timedatectl' had status 1”\n",
      "── \u001b[1mAttaching core tidyverse packages\u001b[22m ──────────────────────── tidyverse 2.0.0 ──\n",
      "\u001b[32m✔\u001b[39m \u001b[34mdplyr    \u001b[39m 1.1.4     \u001b[32m✔\u001b[39m \u001b[34mreadr    \u001b[39m 2.1.5\n",
      "\u001b[32m✔\u001b[39m \u001b[34mforcats  \u001b[39m 1.0.0     \u001b[32m✔\u001b[39m \u001b[34mstringr  \u001b[39m 1.5.1\n",
      "\u001b[32m✔\u001b[39m \u001b[34mggplot2  \u001b[39m 3.4.4     \u001b[32m✔\u001b[39m \u001b[34mtibble   \u001b[39m 3.2.1\n",
      "\u001b[32m✔\u001b[39m \u001b[34mlubridate\u001b[39m 1.9.3     \u001b[32m✔\u001b[39m \u001b[34mtidyr    \u001b[39m 1.3.1\n",
      "\u001b[32m✔\u001b[39m \u001b[34mpurrr    \u001b[39m 1.0.2     \n",
      "── \u001b[1mConflicts\u001b[22m ────────────────────────────────────────── tidyverse_conflicts() ──\n",
      "\u001b[31m✖\u001b[39m \u001b[34mdplyr\u001b[39m::\u001b[32mfilter()\u001b[39m masks \u001b[34mstats\u001b[39m::filter()\n",
      "\u001b[31m✖\u001b[39m \u001b[34mdplyr\u001b[39m::\u001b[32mlag()\u001b[39m    masks \u001b[34mstats\u001b[39m::lag()\n",
      "\u001b[36mℹ\u001b[39m Use the conflicted package (\u001b[3m\u001b[34m<http://conflicted.r-lib.org/>\u001b[39m\u001b[23m) to force all conflicts to become errors\n"
     ]
    }
   ],
   "source": [
    "library(tidyverse)"
   ]
  },
  {
   "cell_type": "markdown",
   "id": "329936b8-81d3-4af6-89da-d315f633729c",
   "metadata": {},
   "source": [
    "### Create Gibberish Text"
   ]
  },
  {
   "cell_type": "code",
   "execution_count": 25,
   "id": "1a354f90-50d3-4325-902c-b9a698a8d6f9",
   "metadata": {
    "tags": []
   },
   "outputs": [],
   "source": [
    "# Set seed for reproducibility\n",
    "set.seed(20240315)\n",
    "\n",
    "# Generate gibberish text containing letters, numbers, and special characters\n",
    "gibberish_texts <- c()\n",
    "for(i in 1:5)\n",
    "{\n",
    "    gibberish_text <- paste0(sample(c(letters, 0:9, \"!@#$%^&*() \"), 10, replace = TRUE), collapse = \"\")\n",
    "    gibberish_texts <- c(gibberish_texts, gibberish_text)\n",
    "}"
   ]
  },
  {
   "cell_type": "markdown",
   "id": "a55e3574-d268-417a-be09-297057a644c8",
   "metadata": {},
   "source": [
    "#### On your character data, by using any of the str_extract, str_replace, str_extract_all, str_replace_all, str_detect, str_subset functions any number of times, write and apply regex patterns. The patterns as a whole should include each of the following regex features at least one time (one regex pattern can include any number of these features, you can write many simple patterns each including a few of the features, or few complex patterns each including more of those features):"
   ]
  },
  {
   "cell_type": "markdown",
   "id": "274844d8-b256-4519-872e-591b92f0769d",
   "metadata": {},
   "source": [
    "### plus(+) quantifier"
   ]
  },
  {
   "cell_type": "code",
   "execution_count": 26,
   "id": "59e165cd-1efd-4fca-88ff-56e1e2af84a4",
   "metadata": {
    "tags": []
   },
   "outputs": [
    {
     "data": {
      "text/html": [
       "<style>\n",
       ".list-inline {list-style: none; margin:0; padding: 0}\n",
       ".list-inline>li {display: inline-block}\n",
       ".list-inline>li:not(:last-child)::after {content: \"\\00b7\"; padding: 0 .5ex}\n",
       "</style>\n",
       "<ol class=list-inline><li>'vgejhslhu7'</li><li>'4dxedy'</li><li>'wcrwy0647o'</li><li>'6tuvmyxr42'</li><li>'xw9vo870ur'</li></ol>\n"
      ],
      "text/latex": [
       "\\begin{enumerate*}\n",
       "\\item 'vgejhslhu7'\n",
       "\\item '4dxedy'\n",
       "\\item 'wcrwy0647o'\n",
       "\\item '6tuvmyxr42'\n",
       "\\item 'xw9vo870ur'\n",
       "\\end{enumerate*}\n"
      ],
      "text/markdown": [
       "1. 'vgejhslhu7'\n",
       "2. '4dxedy'\n",
       "3. 'wcrwy0647o'\n",
       "4. '6tuvmyxr42'\n",
       "5. 'xw9vo870ur'\n",
       "\n",
       "\n"
      ],
      "text/plain": [
       "[1] \"vgejhslhu7\" \"4dxedy\"     \"wcrwy0647o\" \"6tuvmyxr42\" \"xw9vo870ur\""
      ]
     },
     "metadata": {},
     "output_type": "display_data"
    }
   ],
   "source": [
    "# Plus (+) Quantifier\n",
    "plus_quantifier_regex <- \"\\\\w+\"\n",
    "\n",
    "str_extract(gibberish_texts, plus_quantifier_regex)"
   ]
  },
  {
   "cell_type": "markdown",
   "id": "e74d1940-e2d8-4882-a2b1-a1c6b21f9fd9",
   "metadata": {},
   "source": [
    "### star(*) quantifier"
   ]
  },
  {
   "cell_type": "code",
   "execution_count": 27,
   "id": "ac60ad93-3d18-449c-b941-423d6c32af12",
   "metadata": {
    "tags": []
   },
   "outputs": [
    {
     "data": {
      "text/html": [
       "<style>\n",
       ".list-inline {list-style: none; margin:0; padding: 0}\n",
       ".list-inline>li {display: inline-block}\n",
       ".list-inline>li:not(:last-child)::after {content: \"\\00b7\"; padding: 0 .5ex}\n",
       "</style>\n",
       "<ol class=list-inline><li>'vgejhslhu7'</li><li>'4dxedy!@#$%^&amp;*() zg8'</li><li>'wcrwy0647o'</li><li>'6tuvmyxr42'</li><li>'xw9vo870ur'</li></ol>\n"
      ],
      "text/latex": [
       "\\begin{enumerate*}\n",
       "\\item 'vgejhslhu7'\n",
       "\\item '4dxedy!@\\#\\$\\%\\textasciicircum{}\\&*() zg8'\n",
       "\\item 'wcrwy0647o'\n",
       "\\item '6tuvmyxr42'\n",
       "\\item 'xw9vo870ur'\n",
       "\\end{enumerate*}\n"
      ],
      "text/markdown": [
       "1. 'vgejhslhu7'\n",
       "2. '4dxedy!@#$%^&amp;*() zg8'\n",
       "3. 'wcrwy0647o'\n",
       "4. '6tuvmyxr42'\n",
       "5. 'xw9vo870ur'\n",
       "\n",
       "\n"
      ],
      "text/plain": [
       "[1] \"vgejhslhu7\"           \"4dxedy!@#$%^&*() zg8\" \"wcrwy0647o\"          \n",
       "[4] \"6tuvmyxr42\"           \"xw9vo870ur\"          "
      ]
     },
     "metadata": {},
     "output_type": "display_data"
    }
   ],
   "source": [
    "# Star (*) Quantifier\n",
    "star_quantifier_regex <- \"\\\\d*\\\\.\"\n",
    "\n",
    "str_replace(gibberish_texts, star_quantifier_regex, \"MY_TEXT\")"
   ]
  },
  {
   "cell_type": "markdown",
   "id": "bd49af44-7fff-4b8b-a96b-bde0a4da2ae1",
   "metadata": {},
   "source": [
    "### question mark(?) quantifier"
   ]
  },
  {
   "cell_type": "code",
   "execution_count": 28,
   "id": "611a7646-6357-460f-85ad-505802f2057c",
   "metadata": {
    "tags": []
   },
   "outputs": [
    {
     "data": {
      "text/html": [
       "<ol>\n",
       "\t<li></li>\n",
       "\t<li></li>\n",
       "\t<li>'064'</li>\n",
       "\t<li></li>\n",
       "\t<li>'870'</li>\n",
       "</ol>\n"
      ],
      "text/latex": [
       "\\begin{enumerate}\n",
       "\\item \n",
       "\\item \n",
       "\\item '064'\n",
       "\\item \n",
       "\\item '870'\n",
       "\\end{enumerate}\n"
      ],
      "text/markdown": [
       "1. \n",
       "2. \n",
       "3. '064'\n",
       "4. \n",
       "5. '870'\n",
       "\n",
       "\n"
      ],
      "text/plain": [
       "[[1]]\n",
       "character(0)\n",
       "\n",
       "[[2]]\n",
       "character(0)\n",
       "\n",
       "[[3]]\n",
       "[1] \"064\"\n",
       "\n",
       "[[4]]\n",
       "character(0)\n",
       "\n",
       "[[5]]\n",
       "[1] \"870\"\n"
      ]
     },
     "metadata": {},
     "output_type": "display_data"
    }
   ],
   "source": [
    "# Question Mark (?) Quantifier\n",
    "question_mark_quantifier_regex <- \"\\\\d{3,}?\"\n",
    "\n",
    "str_extract_all(gibberish_texts, question_mark_quantifier_regex)"
   ]
  },
  {
   "cell_type": "markdown",
   "id": "2550c2a2-8ac3-49d0-a7e9-53c0e8184db1",
   "metadata": {},
   "source": [
    "### dot(.) qualifier"
   ]
  },
  {
   "cell_type": "code",
   "execution_count": 29,
   "id": "7cfc0af6-2bb9-4743-a5bf-d533bc99ae6f",
   "metadata": {
    "tags": []
   },
   "outputs": [
    {
     "data": {
      "text/html": [
       "<style>\n",
       ".list-inline {list-style: none; margin:0; padding: 0}\n",
       ".list-inline>li {display: inline-block}\n",
       ".list-inline>li:not(:last-child)::after {content: \"\\00b7\"; padding: 0 .5ex}\n",
       "</style>\n",
       "<ol class=list-inline><li>'MY_TEXTeMY_TEXTMY_TEXTMY_TEXT7'</li><li>'MY_TEXTMY_TEXTMY_TEXTMY_TEXTMY_TEXTMY_TEXTMY_TEXTMY_TEXTMY_TEXTMY_TEXT'</li><li>'MY_TEXTMY_TEXTMY_TEXTMY_TEXTMY_TEXT'</li><li>'MY_TEXTuMY_TEXTMY_TEXTMY_TEXT2'</li><li>'MY_TEXTMY_TEXToMY_TEXTMY_TEXTr'</li></ol>\n"
      ],
      "text/latex": [
       "\\begin{enumerate*}\n",
       "\\item 'MY\\_TEXTeMY\\_TEXTMY\\_TEXTMY\\_TEXT7'\n",
       "\\item 'MY\\_TEXTMY\\_TEXTMY\\_TEXTMY\\_TEXTMY\\_TEXTMY\\_TEXTMY\\_TEXTMY\\_TEXTMY\\_TEXTMY\\_TEXT'\n",
       "\\item 'MY\\_TEXTMY\\_TEXTMY\\_TEXTMY\\_TEXTMY\\_TEXT'\n",
       "\\item 'MY\\_TEXTuMY\\_TEXTMY\\_TEXTMY\\_TEXT2'\n",
       "\\item 'MY\\_TEXTMY\\_TEXToMY\\_TEXTMY\\_TEXTr'\n",
       "\\end{enumerate*}\n"
      ],
      "text/markdown": [
       "1. 'MY_TEXTeMY_TEXTMY_TEXTMY_TEXT7'\n",
       "2. 'MY_TEXTMY_TEXTMY_TEXTMY_TEXTMY_TEXTMY_TEXTMY_TEXTMY_TEXTMY_TEXTMY_TEXT'\n",
       "3. 'MY_TEXTMY_TEXTMY_TEXTMY_TEXTMY_TEXT'\n",
       "4. 'MY_TEXTuMY_TEXTMY_TEXTMY_TEXT2'\n",
       "5. 'MY_TEXTMY_TEXToMY_TEXTMY_TEXTr'\n",
       "\n",
       "\n"
      ],
      "text/plain": [
       "[1] \"MY_TEXTeMY_TEXTMY_TEXTMY_TEXT7\"                                        \n",
       "[2] \"MY_TEXTMY_TEXTMY_TEXTMY_TEXTMY_TEXTMY_TEXTMY_TEXTMY_TEXTMY_TEXTMY_TEXT\"\n",
       "[3] \"MY_TEXTMY_TEXTMY_TEXTMY_TEXTMY_TEXT\"                                   \n",
       "[4] \"MY_TEXTuMY_TEXTMY_TEXTMY_TEXT2\"                                        \n",
       "[5] \"MY_TEXTMY_TEXToMY_TEXTMY_TEXTr\"                                        "
      ]
     },
     "metadata": {},
     "output_type": "display_data"
    }
   ],
   "source": [
    "# Dot (.) Qualifier\n",
    "dot_qualifier_regex <- \"[^aeiou].\"\n",
    "\n",
    "str_replace_all(gibberish_texts, dot_qualifier_regex, \"MY_TEXT\")"
   ]
  },
  {
   "cell_type": "markdown",
   "id": "38c90214-6a5a-4070-9954-a0bc33677eb4",
   "metadata": {},
   "source": [
    "### \\w qualifier"
   ]
  },
  {
   "cell_type": "code",
   "execution_count": 30,
   "id": "f96d7373-77d9-4ccd-a1b3-f06888f572c4",
   "metadata": {
    "tags": []
   },
   "outputs": [
    {
     "data": {
      "text/html": [
       "<style>\n",
       ".list-inline {list-style: none; margin:0; padding: 0}\n",
       ".list-inline>li {display: inline-block}\n",
       ".list-inline>li:not(:last-child)::after {content: \"\\00b7\"; padding: 0 .5ex}\n",
       "</style>\n",
       "<ol class=list-inline><li>FALSE</li><li>FALSE</li><li>FALSE</li><li>FALSE</li><li>FALSE</li></ol>\n"
      ],
      "text/latex": [
       "\\begin{enumerate*}\n",
       "\\item FALSE\n",
       "\\item FALSE\n",
       "\\item FALSE\n",
       "\\item FALSE\n",
       "\\item FALSE\n",
       "\\end{enumerate*}\n"
      ],
      "text/markdown": [
       "1. FALSE\n",
       "2. FALSE\n",
       "3. FALSE\n",
       "4. FALSE\n",
       "5. FALSE\n",
       "\n",
       "\n"
      ],
      "text/plain": [
       "[1] FALSE FALSE FALSE FALSE FALSE"
      ]
     },
     "metadata": {},
     "output_type": "display_data"
    }
   ],
   "source": [
    "# \\w Qualifier\n",
    "w_qualifier_regex <- \"\\\\b\\\\w{5}\\\\b\"\n",
    "\n",
    "str_detect(gibberish_texts, w_qualifier_regex)"
   ]
  },
  {
   "cell_type": "markdown",
   "id": "669164da-cf85-457e-9b28-c258af160c33",
   "metadata": {},
   "source": [
    "### \\d qualifier"
   ]
  },
  {
   "cell_type": "code",
   "execution_count": 31,
   "id": "52108a7d-0465-46a4-b338-0f45dd6760c5",
   "metadata": {
    "tags": []
   },
   "outputs": [
    {
     "data": {
      "text/html": [
       "<style>\n",
       ".list-inline {list-style: none; margin:0; padding: 0}\n",
       ".list-inline>li {display: inline-block}\n",
       ".list-inline>li:not(:last-child)::after {content: \"\\00b7\"; padding: 0 .5ex}\n",
       "</style>\n",
       "<ol class=list-inline><li>'4dxedy!@#$%^&amp;*() zg8'</li><li>'6tuvmyxr42'</li></ol>\n"
      ],
      "text/latex": [
       "\\begin{enumerate*}\n",
       "\\item '4dxedy!@\\#\\$\\%\\textasciicircum{}\\&*() zg8'\n",
       "\\item '6tuvmyxr42'\n",
       "\\end{enumerate*}\n"
      ],
      "text/markdown": [
       "1. '4dxedy!@#$%^&amp;*() zg8'\n",
       "2. '6tuvmyxr42'\n",
       "\n",
       "\n"
      ],
      "text/plain": [
       "[1] \"4dxedy!@#$%^&*() zg8\" \"6tuvmyxr42\"          "
      ]
     },
     "metadata": {},
     "output_type": "display_data"
    }
   ],
   "source": [
    "# \\d Qualifier\n",
    "d_qualifier_regex <- \"^\\\\d{1}\"\n",
    "\n",
    "str_subset(gibberish_texts, d_qualifier_regex)"
   ]
  },
  {
   "cell_type": "markdown",
   "id": "5204540d-4c23-4edc-888d-8277693063df",
   "metadata": {},
   "source": [
    "### \\s qualifier"
   ]
  },
  {
   "cell_type": "code",
   "execution_count": 32,
   "id": "a6acf1f8-3389-4c89-b0ee-096a5e19a6c9",
   "metadata": {
    "tags": []
   },
   "outputs": [
    {
     "data": {
      "text/html": [
       "<style>\n",
       ".list-inline {list-style: none; margin:0; padding: 0}\n",
       ".list-inline>li {display: inline-block}\n",
       ".list-inline>li:not(:last-child)::after {content: \"\\00b7\"; padding: 0 .5ex}\n",
       "</style>\n",
       "<ol class=list-inline><li>NA</li><li>' '</li><li>NA</li><li>NA</li><li>NA</li></ol>\n"
      ],
      "text/latex": [
       "\\begin{enumerate*}\n",
       "\\item NA\n",
       "\\item ' '\n",
       "\\item NA\n",
       "\\item NA\n",
       "\\item NA\n",
       "\\end{enumerate*}\n"
      ],
      "text/markdown": [
       "1. NA\n",
       "2. ' '\n",
       "3. NA\n",
       "4. NA\n",
       "5. NA\n",
       "\n",
       "\n"
      ],
      "text/plain": [
       "[1] NA  \" \" NA  NA  NA "
      ]
     },
     "metadata": {},
     "output_type": "display_data"
    }
   ],
   "source": [
    "# \\s Qualifier\n",
    "s_qualifier_regex <- \"\\\\s{1}\"\n",
    "\n",
    "str_extract(gibberish_texts, s_qualifier_regex)"
   ]
  },
  {
   "cell_type": "markdown",
   "id": "45f47ef6-2a37-48ec-a85c-efdd07391a41",
   "metadata": {},
   "source": [
    "### Included character set defined inside []"
   ]
  },
  {
   "cell_type": "code",
   "execution_count": 33,
   "id": "f44b0dd5-e057-4cdc-b30a-92dbf52e1333",
   "metadata": {
    "tags": []
   },
   "outputs": [
    {
     "data": {
      "text/html": [
       "<style>\n",
       ".list-inline {list-style: none; margin:0; padding: 0}\n",
       ".list-inline>li {display: inline-block}\n",
       ".list-inline>li:not(:last-child)::after {content: \"\\00b7\"; padding: 0 .5ex}\n",
       "</style>\n",
       "<ol class=list-inline><li>'vgejhslhu7'</li><li>'4dxedy!@#$%^&amp;*() zg8'</li><li>'wcrwy0647o'</li><li>'6tuvmyxr42'</li><li>'xw9vo870ur'</li></ol>\n"
      ],
      "text/latex": [
       "\\begin{enumerate*}\n",
       "\\item 'vgejhslhu7'\n",
       "\\item '4dxedy!@\\#\\$\\%\\textasciicircum{}\\&*() zg8'\n",
       "\\item 'wcrwy0647o'\n",
       "\\item '6tuvmyxr42'\n",
       "\\item 'xw9vo870ur'\n",
       "\\end{enumerate*}\n"
      ],
      "text/markdown": [
       "1. 'vgejhslhu7'\n",
       "2. '4dxedy!@#$%^&amp;*() zg8'\n",
       "3. 'wcrwy0647o'\n",
       "4. '6tuvmyxr42'\n",
       "5. 'xw9vo870ur'\n",
       "\n",
       "\n"
      ],
      "text/plain": [
       "[1] \"vgejhslhu7\"           \"4dxedy!@#$%^&*() zg8\" \"wcrwy0647o\"          \n",
       "[4] \"6tuvmyxr42\"           \"xw9vo870ur\"          "
      ]
     },
     "metadata": {},
     "output_type": "display_data"
    }
   ],
   "source": [
    "# Included Character Set Defined Inside []\n",
    "included_char_set_regex <- \"[aeiou]{2}\"\n",
    "\n",
    "str_replace(gibberish_texts, included_char_set_regex, \"MY_TEXT\")"
   ]
  },
  {
   "cell_type": "markdown",
   "id": "b6b46263-734e-42e7-b481-93dbd1b73ef2",
   "metadata": {},
   "source": [
    "### Excluded character set defined inside [^]"
   ]
  },
  {
   "cell_type": "code",
   "execution_count": 34,
   "id": "3f62d30f-dcac-4b2a-8285-e81d43992e9b",
   "metadata": {},
   "outputs": [
    {
     "data": {
      "text/html": [
       "<style>\n",
       ".list-inline {list-style: none; margin:0; padding: 0}\n",
       ".list-inline>li {display: inline-block}\n",
       ".list-inline>li:not(:last-child)::after {content: \"\\00b7\"; padding: 0 .5ex}\n",
       "</style>\n",
       "<ol class=list-inline><li>FALSE</li><li>FALSE</li><li>FALSE</li><li>FALSE</li><li>FALSE</li></ol>\n"
      ],
      "text/latex": [
       "\\begin{enumerate*}\n",
       "\\item FALSE\n",
       "\\item FALSE\n",
       "\\item FALSE\n",
       "\\item FALSE\n",
       "\\item FALSE\n",
       "\\end{enumerate*}\n"
      ],
      "text/markdown": [
       "1. FALSE\n",
       "2. FALSE\n",
       "3. FALSE\n",
       "4. FALSE\n",
       "5. FALSE\n",
       "\n",
       "\n"
      ],
      "text/plain": [
       "[1] FALSE FALSE FALSE FALSE FALSE"
      ]
     },
     "metadata": {},
     "output_type": "display_data"
    }
   ],
   "source": [
    "# ^ Anchor (Line Start)\n",
    "line_start_anchor_regex <- \"^\\\\d{3}\"\n",
    "\n",
    "str_detect(gibberish_texts, line_start_anchor_regex)"
   ]
  },
  {
   "cell_type": "markdown",
   "id": "ae5d0ccd-92e1-462b-8a21-f41cabac9ece",
   "metadata": {},
   "source": [
    "### ^ anchor (line start)"
   ]
  },
  {
   "cell_type": "code",
   "execution_count": 35,
   "id": "b4c26c46-3d36-417b-b92d-4b0cc62e4762",
   "metadata": {},
   "outputs": [
    {
     "data": {
      "text/html": [
       "<style>\n",
       ".list-inline {list-style: none; margin:0; padding: 0}\n",
       ".list-inline>li {display: inline-block}\n",
       ".list-inline>li:not(:last-child)::after {content: \"\\00b7\"; padding: 0 .5ex}\n",
       "</style>\n",
       "<ol class=list-inline><li>'vgejhslhu7'</li><li>'4dxedy!@#$%^&amp;*() zg8'</li><li>'wcrwy0647o'</li><li>'6tuvmyxr42'</li><li>'xw9vo870ur'</li></ol>\n"
      ],
      "text/latex": [
       "\\begin{enumerate*}\n",
       "\\item 'vgejhslhu7'\n",
       "\\item '4dxedy!@\\#\\$\\%\\textasciicircum{}\\&*() zg8'\n",
       "\\item 'wcrwy0647o'\n",
       "\\item '6tuvmyxr42'\n",
       "\\item 'xw9vo870ur'\n",
       "\\end{enumerate*}\n"
      ],
      "text/markdown": [
       "1. 'vgejhslhu7'\n",
       "2. '4dxedy!@#$%^&amp;*() zg8'\n",
       "3. 'wcrwy0647o'\n",
       "4. '6tuvmyxr42'\n",
       "5. 'xw9vo870ur'\n",
       "\n",
       "\n"
      ],
      "text/plain": [
       "[1] \"vgejhslhu7\"           \"4dxedy!@#$%^&*() zg8\" \"wcrwy0647o\"          \n",
       "[4] \"6tuvmyxr42\"           \"xw9vo870ur\"          "
      ]
     },
     "metadata": {},
     "output_type": "display_data"
    }
   ],
   "source": [
    "# ^ Anchor (Line Start)\n",
    "line_start_anchor_regex <- \"^\\\\d{3}\"\n",
    "\n",
    "str_replace_all(gibberish_texts, line_start_anchor_regex, \"MY_TEXT\")"
   ]
  },
  {
   "cell_type": "markdown",
   "id": "2dcad69e-9ea5-4d41-9e39-e30ecf0bb196",
   "metadata": {},
   "source": [
    "### $ anchor (line end)"
   ]
  },
  {
   "cell_type": "code",
   "execution_count": 36,
   "id": "26cd8a35-b9dc-4076-996b-dd7c2e639b38",
   "metadata": {},
   "outputs": [
    {
     "data": {
      "text/html": [
       "<style>\n",
       ".list-inline {list-style: none; margin:0; padding: 0}\n",
       ".list-inline>li {display: inline-block}\n",
       ".list-inline>li:not(:last-child)::after {content: \"\\00b7\"; padding: 0 .5ex}\n",
       "</style>\n",
       "<ol class=list-inline><li>'vgejhslhu7'</li><li>'4dxedy!@#$%^&amp;*() zg8'</li><li>'wcrwy0647o'</li><li>'6tuvmyxr42'</li><li>'xw9vo870ur'</li></ol>\n"
      ],
      "text/latex": [
       "\\begin{enumerate*}\n",
       "\\item 'vgejhslhu7'\n",
       "\\item '4dxedy!@\\#\\$\\%\\textasciicircum{}\\&*() zg8'\n",
       "\\item 'wcrwy0647o'\n",
       "\\item '6tuvmyxr42'\n",
       "\\item 'xw9vo870ur'\n",
       "\\end{enumerate*}\n"
      ],
      "text/markdown": [
       "1. 'vgejhslhu7'\n",
       "2. '4dxedy!@#$%^&amp;*() zg8'\n",
       "3. 'wcrwy0647o'\n",
       "4. '6tuvmyxr42'\n",
       "5. 'xw9vo870ur'\n",
       "\n",
       "\n"
      ],
      "text/plain": [
       "[1] \"vgejhslhu7\"           \"4dxedy!@#$%^&*() zg8\" \"wcrwy0647o\"          \n",
       "[4] \"6tuvmyxr42\"           \"xw9vo870ur\"          "
      ]
     },
     "metadata": {},
     "output_type": "display_data"
    }
   ],
   "source": [
    "# $ Anchor (Line End)\n",
    "line_end_anchor_regex <- \"\\\\d{3}$\"\n",
    "\n",
    "str_replace_all(gibberish_texts, line_end_anchor_regex, \"MY_TEXT\")"
   ]
  },
  {
   "cell_type": "markdown",
   "id": "1161c85a-f12b-4431-92e0-5403d4e6ec4f",
   "metadata": {},
   "source": [
    "### | alternation (or)"
   ]
  },
  {
   "cell_type": "code",
   "execution_count": 37,
   "id": "9b61d9c1-0ec6-41aa-8eb3-c888a333cc35",
   "metadata": {},
   "outputs": [
    {
     "data": {
      "text/html": [
       "<style>\n",
       ".list-inline {list-style: none; margin:0; padding: 0}\n",
       ".list-inline>li {display: inline-block}\n",
       ".list-inline>li:not(:last-child)::after {content: \"\\00b7\"; padding: 0 .5ex}\n",
       "</style>\n",
       "<ol class=list-inline><li>'vgejhslhu7'</li><li>'4dxedy!@#$%^&amp;*() zg8'</li><li>'wcrwy0647o'</li><li>'6tuvmyxr42'</li><li>'xw9vo870ur'</li></ol>\n"
      ],
      "text/latex": [
       "\\begin{enumerate*}\n",
       "\\item 'vgejhslhu7'\n",
       "\\item '4dxedy!@\\#\\$\\%\\textasciicircum{}\\&*() zg8'\n",
       "\\item 'wcrwy0647o'\n",
       "\\item '6tuvmyxr42'\n",
       "\\item 'xw9vo870ur'\n",
       "\\end{enumerate*}\n"
      ],
      "text/markdown": [
       "1. 'vgejhslhu7'\n",
       "2. '4dxedy!@#$%^&amp;*() zg8'\n",
       "3. 'wcrwy0647o'\n",
       "4. '6tuvmyxr42'\n",
       "5. 'xw9vo870ur'\n",
       "\n",
       "\n"
      ],
      "text/plain": [
       "[1] \"vgejhslhu7\"           \"4dxedy!@#$%^&*() zg8\" \"wcrwy0647o\"          \n",
       "[4] \"6tuvmyxr42\"           \"xw9vo870ur\"          "
      ]
     },
     "metadata": {},
     "output_type": "display_data"
    }
   ],
   "source": [
    "# | Alternation (Or)\n",
    "alternation_regex <- \"word1|word2\"\n",
    "\n",
    "str_replace(gibberish_texts, alternation_regex, \"MY_TEXT\")"
   ]
  },
  {
   "cell_type": "markdown",
   "id": "0960b955-81b8-4350-bfcf-3daf3d9d765c",
   "metadata": {},
   "source": [
    "### (?<=) positive lookbehind (pattern following by another pattern)"
   ]
  },
  {
   "cell_type": "code",
   "execution_count": 38,
   "id": "8983bebd-02c3-4f60-b5f1-67be02909384",
   "metadata": {},
   "outputs": [
    {
     "data": {
      "text/html": [
       "<style>\n",
       ".list-inline {list-style: none; margin:0; padding: 0}\n",
       ".list-inline>li {display: inline-block}\n",
       ".list-inline>li:not(:last-child)::after {content: \"\\00b7\"; padding: 0 .5ex}\n",
       "</style>\n",
       "<ol class=list-inline><li>FALSE</li><li>FALSE</li><li>FALSE</li><li>FALSE</li><li>FALSE</li></ol>\n"
      ],
      "text/latex": [
       "\\begin{enumerate*}\n",
       "\\item FALSE\n",
       "\\item FALSE\n",
       "\\item FALSE\n",
       "\\item FALSE\n",
       "\\item FALSE\n",
       "\\end{enumerate*}\n"
      ],
      "text/markdown": [
       "1. FALSE\n",
       "2. FALSE\n",
       "3. FALSE\n",
       "4. FALSE\n",
       "5. FALSE\n",
       "\n",
       "\n"
      ],
      "text/plain": [
       "[1] FALSE FALSE FALSE FALSE FALSE"
      ]
     },
     "metadata": {},
     "output_type": "display_data"
    }
   ],
   "source": [
    "# (?<=) Positive Lookbehind (Pattern Following by Another Pattern)\n",
    "positive_lookbehind_regex <- \"(?<=\\\\$)\\\\d+\"\n",
    "\n",
    "str_detect(gibberish_texts, positive_lookbehind_regex)"
   ]
  },
  {
   "cell_type": "markdown",
   "id": "b17a7191-fb5f-4f58-88e5-c64ef22643d3",
   "metadata": {},
   "source": [
    "### (?=) positive look ahead (pattern followed by another pattern)"
   ]
  },
  {
   "cell_type": "code",
   "execution_count": 39,
   "id": "50ab46bb-62c1-4b2c-a042-77e8ac3b82e7",
   "metadata": {
    "tags": []
   },
   "outputs": [
    {
     "data": {
      "text/html": [
       "<ol>\n",
       "\t<li></li>\n",
       "\t<li></li>\n",
       "\t<li></li>\n",
       "\t<li></li>\n",
       "\t<li></li>\n",
       "</ol>\n"
      ],
      "text/latex": [
       "\\begin{enumerate}\n",
       "\\item \n",
       "\\item \n",
       "\\item \n",
       "\\item \n",
       "\\item \n",
       "\\end{enumerate}\n"
      ],
      "text/markdown": [
       "1. \n",
       "2. \n",
       "3. \n",
       "4. \n",
       "5. \n",
       "\n",
       "\n"
      ],
      "text/plain": [
       "[[1]]\n",
       "character(0)\n",
       "\n",
       "[[2]]\n",
       "character(0)\n",
       "\n",
       "[[3]]\n",
       "character(0)\n",
       "\n",
       "[[4]]\n",
       "character(0)\n",
       "\n",
       "[[5]]\n",
       "character(0)\n"
      ]
     },
     "metadata": {},
     "output_type": "display_data"
    }
   ],
   "source": [
    "# (?=) Positive Lookahead (Pattern Followed by Another Pattern)\n",
    "positive_lookahead_regex <- \"\\\\d+(?=%)\"\n",
    "\n",
    "str_extract_all(gibberish_texts, positive_lookahead_regex)"
   ]
  }
 ],
 "metadata": {
  "kernelspec": {
   "display_name": "R",
   "language": "R",
   "name": "ir"
  },
  "language_info": {
   "codemirror_mode": "r",
   "file_extension": ".r",
   "mimetype": "text/x-r-source",
   "name": "R",
   "pygments_lexer": "r",
   "version": "4.2.1"
  }
 },
 "nbformat": 4,
 "nbformat_minor": 5
}
